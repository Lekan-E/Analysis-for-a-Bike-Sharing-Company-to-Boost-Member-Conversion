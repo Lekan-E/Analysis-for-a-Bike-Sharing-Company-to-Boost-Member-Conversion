{
 "cells": [
  {
   "cell_type": "markdown",
   "metadata": {},
   "source": [
    "# Outliers Analysis"
   ]
  },
  {
   "cell_type": "markdown",
   "metadata": {},
   "source": [
    "### Import libraries"
   ]
  },
  {
   "cell_type": "code",
   "execution_count": 26,
   "metadata": {},
   "outputs": [],
   "source": [
    "# Data manipulation packages\n",
    "import pandas as pd\n",
    "import numpy as np\n",
    "import re\n",
    "# Data visualization packages\n",
    "import matplotlib.pyplot as plt\n",
    "import seaborn as sns \n",
    "import folium\n",
    "\n",
    "# Tools for modeling and evaluation.\n",
    "from sklearn.cluster import KMeans\n",
    "from sklearn.metrics import silhouette_score\n",
    "from sklearn.preprocessing import StandardScaler\n",
    "from sklearn.preprocessing import OneHotEncoder"
   ]
  },
  {
   "cell_type": "markdown",
   "metadata": {},
   "source": [
    "### Import data"
   ]
  },
  {
   "cell_type": "code",
   "execution_count": 27,
   "metadata": {},
   "outputs": [
    {
     "name": "stdout",
     "output_type": "stream",
     "text": [
      "<class 'pandas.core.frame.DataFrame'>\n",
      "Index: 5738812 entries, 0 to 359977\n",
      "Data columns (total 13 columns):\n",
      " #   Column              Dtype  \n",
      "---  ------              -----  \n",
      " 0   ride_id             object \n",
      " 1   rideable_type       object \n",
      " 2   started_at          object \n",
      " 3   ended_at            object \n",
      " 4   start_station_name  object \n",
      " 5   start_station_id    object \n",
      " 6   end_station_name    object \n",
      " 7   end_station_id      object \n",
      " 8   start_lat           float64\n",
      " 9   start_lng           float64\n",
      " 10  end_lat             float64\n",
      " 11  end_lng             float64\n",
      " 12  member_casual       object \n",
      "dtypes: float64(4), object(9)\n",
      "memory usage: 613.0+ MB\n"
     ]
    }
   ],
   "source": [
    "# import for mac\n",
    "# Import all the monthly csv dataset\n",
    "nov_20 = pd.read_csv(r\"/Users/Razak/Documents/Cyclistic Project/Cyclistic Project/cyclistic project/202011-divvy-tripdata.csv\")\n",
    "dec_20 = pd.read_csv(r'/Users/Razak/Documents/Cyclistic Project/Cyclistic Project/cyclistic project/202012-divvy-tripdata.csv')\n",
    "jan_21 = pd.read_csv(r'/Users/Razak/Documents/Cyclistic Project/Cyclistic Project/cyclistic project/202101-divvy-tripdata.csv')\n",
    "feb_21 = pd.read_csv(r'/Users/Razak/Documents/Cyclistic Project/Cyclistic Project/cyclistic project/202102-divvy-tripdata.csv')\n",
    "march_21 = pd.read_csv(r'/Users/Razak/Documents/Cyclistic Project/Cyclistic Project/cyclistic project/202103-divvy-tripdata.csv')\n",
    "april_21 = pd.read_csv(r'/Users/Razak/Documents/Cyclistic Project/Cyclistic Project/cyclistic project/202104-divvy-tripdata.csv')\n",
    "may_21 = pd.read_csv(r'/Users/Razak/Documents/Cyclistic Project/Cyclistic Project/cyclistic project/202105-divvy-tripdata.csv')\n",
    "jun_21 = pd.read_csv(r'/Users/Razak/Documents/Cyclistic Project/Cyclistic Project/cyclistic project/202106-divvy-tripdata.csv')\n",
    "july_21 = pd.read_csv(r'/Users/Razak/Documents/Cyclistic Project/Cyclistic Project/cyclistic project/202107-divvy-tripdata.csv')\n",
    "aug_21 = pd.read_csv(r'/Users/Razak/Documents/Cyclistic Project/Cyclistic Project/cyclistic project/202108-divvy-tripdata.csv')\n",
    "sept_21 = pd.read_csv(r'/Users/Razak/Documents/Cyclistic Project/Cyclistic Project/cyclistic project/202109-divvy-tripdata.csv')\n",
    "oct_21 = pd.read_csv(r'/Users/Razak/Documents/Cyclistic Project/Cyclistic Project/cyclistic project/202110-divvy-tripdata.csv')\n",
    "nov_21 = pd.read_csv(r'/Users/Razak/Documents/Cyclistic Project/Cyclistic Project/cyclistic project/202111-divvy-tripdata.csv')\n",
    "\n",
    "\n",
    "# nov_20 = pd.read_csv(r\"./202011-divvy-tripdata.csv\")\n",
    "# dec_20 = pd.read_csv(r'./202012-divvy-tripdata.csv')\n",
    "# jan_21 = pd.read_csv(r'./202101-divvy-tripdata.csv')\n",
    "# feb_21 = pd.read_csv(r'./202102-divvy-tripdata.csv')\n",
    "# march_21 = pd.read_csv(r'./202103-divvy-tripdata.csv')\n",
    "# april_21 = pd.read_csv(r'./202104-divvy-tripdata.csv')\n",
    "# may_21 = pd.read_csv(r'./202105-divvy-tripdata.csv')\n",
    "# jun_21 = pd.read_csv(r'./202106-divvy-tripdata.csv')\n",
    "# july_21 = pd.read_csv(r'./202107-divvy-tripdata.csv')\n",
    "# aug_21 = pd.read_csv(r'./202108-divvy-tripdata.csv')\n",
    "# sept_21 = pd.read_csv(r'./202109-divvy-tripdata.csv')\n",
    "# oct_21 = pd.read_csv(r'./202110-divvy-tripdata.csv')\n",
    "# nov_21 = pd.read_csv(r'./202111-divvy-tripdata.csv')\n",
    "\n",
    "# Join all months into a single dataframe\n",
    "months = [nov_20, dec_20, jan_21, feb_21, march_21, april_21, may_21, jun_21, july_21, aug_21, sept_21, oct_21, nov_21]\n",
    "df_months = pd.concat(months)\n",
    "\n",
    "# Get basic information\n",
    "df_months.info()\n"
   ]
  },
  {
   "cell_type": "code",
   "execution_count": 28,
   "metadata": {},
   "outputs": [
    {
     "data": {
      "text/plain": [
       "0"
      ]
     },
     "execution_count": 28,
     "metadata": {},
     "output_type": "execute_result"
    }
   ],
   "source": [
    "# Check for duplicates\n",
    "df_months.duplicated().sum()"
   ]
  },
  {
   "cell_type": "markdown",
   "metadata": {},
   "source": [
    "## Data Processing\n",
    "- Convert the data type\n",
    "- Calculate ride duration (end - start time)"
   ]
  },
  {
   "cell_type": "code",
   "execution_count": 29,
   "metadata": {},
   "outputs": [
    {
     "data": {
      "text/html": [
       "<div>\n",
       "<style scoped>\n",
       "    .dataframe tbody tr th:only-of-type {\n",
       "        vertical-align: middle;\n",
       "    }\n",
       "\n",
       "    .dataframe tbody tr th {\n",
       "        vertical-align: top;\n",
       "    }\n",
       "\n",
       "    .dataframe thead th {\n",
       "        text-align: right;\n",
       "    }\n",
       "</style>\n",
       "<table border=\"1\" class=\"dataframe\">\n",
       "  <thead>\n",
       "    <tr style=\"text-align: right;\">\n",
       "      <th></th>\n",
       "      <th>ride_id</th>\n",
       "      <th>rideable_type</th>\n",
       "      <th>started_at</th>\n",
       "      <th>ended_at</th>\n",
       "      <th>start_station_name</th>\n",
       "      <th>start_station_id</th>\n",
       "      <th>end_station_name</th>\n",
       "      <th>end_station_id</th>\n",
       "      <th>start_lat</th>\n",
       "      <th>start_lng</th>\n",
       "      <th>end_lat</th>\n",
       "      <th>end_lng</th>\n",
       "      <th>member_casual</th>\n",
       "    </tr>\n",
       "  </thead>\n",
       "  <tbody>\n",
       "    <tr>\n",
       "      <th>0</th>\n",
       "      <td>BD0A6FF6FFF9B921</td>\n",
       "      <td>electric_bike</td>\n",
       "      <td>2020-11-01 13:36:00</td>\n",
       "      <td>2020-11-01 13:45:40</td>\n",
       "      <td>Dearborn St &amp; Erie St</td>\n",
       "      <td>110.0</td>\n",
       "      <td>St. Clair St &amp; Erie St</td>\n",
       "      <td>211.0</td>\n",
       "      <td>41.894177</td>\n",
       "      <td>-87.629127</td>\n",
       "      <td>41.894434</td>\n",
       "      <td>-87.623379</td>\n",
       "      <td>casual</td>\n",
       "    </tr>\n",
       "    <tr>\n",
       "      <th>1</th>\n",
       "      <td>96A7A7A4BDE4F82D</td>\n",
       "      <td>electric_bike</td>\n",
       "      <td>2020-11-01 10:03:26</td>\n",
       "      <td>2020-11-01 10:14:45</td>\n",
       "      <td>Franklin St &amp; Illinois St</td>\n",
       "      <td>672.0</td>\n",
       "      <td>Noble St &amp; Milwaukee Ave</td>\n",
       "      <td>29.0</td>\n",
       "      <td>41.890959</td>\n",
       "      <td>-87.635343</td>\n",
       "      <td>41.900675</td>\n",
       "      <td>-87.662480</td>\n",
       "      <td>casual</td>\n",
       "    </tr>\n",
       "    <tr>\n",
       "      <th>2</th>\n",
       "      <td>C61526D06582BDC5</td>\n",
       "      <td>electric_bike</td>\n",
       "      <td>2020-11-01 00:34:05</td>\n",
       "      <td>2020-11-01 01:03:06</td>\n",
       "      <td>Lake Shore Dr &amp; Monroe St</td>\n",
       "      <td>76.0</td>\n",
       "      <td>Federal St &amp; Polk St</td>\n",
       "      <td>41.0</td>\n",
       "      <td>41.880983</td>\n",
       "      <td>-87.616754</td>\n",
       "      <td>41.872054</td>\n",
       "      <td>-87.629550</td>\n",
       "      <td>casual</td>\n",
       "    </tr>\n",
       "    <tr>\n",
       "      <th>3</th>\n",
       "      <td>E533E89C32080B9E</td>\n",
       "      <td>electric_bike</td>\n",
       "      <td>2020-11-01 00:45:16</td>\n",
       "      <td>2020-11-01 00:54:31</td>\n",
       "      <td>Leavitt St &amp; Chicago Ave</td>\n",
       "      <td>659.0</td>\n",
       "      <td>Stave St &amp; Armitage Ave</td>\n",
       "      <td>185.0</td>\n",
       "      <td>41.895499</td>\n",
       "      <td>-87.682013</td>\n",
       "      <td>41.917744</td>\n",
       "      <td>-87.691392</td>\n",
       "      <td>casual</td>\n",
       "    </tr>\n",
       "    <tr>\n",
       "      <th>4</th>\n",
       "      <td>1C9F4EF18C168C60</td>\n",
       "      <td>electric_bike</td>\n",
       "      <td>2020-11-01 15:43:25</td>\n",
       "      <td>2020-11-01 16:16:52</td>\n",
       "      <td>Buckingham Fountain</td>\n",
       "      <td>2.0</td>\n",
       "      <td>Buckingham Fountain</td>\n",
       "      <td>2.0</td>\n",
       "      <td>41.876497</td>\n",
       "      <td>-87.620358</td>\n",
       "      <td>41.876448</td>\n",
       "      <td>-87.620338</td>\n",
       "      <td>casual</td>\n",
       "    </tr>\n",
       "  </tbody>\n",
       "</table>\n",
       "</div>"
      ],
      "text/plain": [
       "            ride_id  rideable_type          started_at            ended_at  \\\n",
       "0  BD0A6FF6FFF9B921  electric_bike 2020-11-01 13:36:00 2020-11-01 13:45:40   \n",
       "1  96A7A7A4BDE4F82D  electric_bike 2020-11-01 10:03:26 2020-11-01 10:14:45   \n",
       "2  C61526D06582BDC5  electric_bike 2020-11-01 00:34:05 2020-11-01 01:03:06   \n",
       "3  E533E89C32080B9E  electric_bike 2020-11-01 00:45:16 2020-11-01 00:54:31   \n",
       "4  1C9F4EF18C168C60  electric_bike 2020-11-01 15:43:25 2020-11-01 16:16:52   \n",
       "\n",
       "          start_station_name start_station_id          end_station_name  \\\n",
       "0      Dearborn St & Erie St            110.0    St. Clair St & Erie St   \n",
       "1  Franklin St & Illinois St            672.0  Noble St & Milwaukee Ave   \n",
       "2  Lake Shore Dr & Monroe St             76.0      Federal St & Polk St   \n",
       "3   Leavitt St & Chicago Ave            659.0   Stave St & Armitage Ave   \n",
       "4        Buckingham Fountain              2.0       Buckingham Fountain   \n",
       "\n",
       "  end_station_id  start_lat  start_lng    end_lat    end_lng member_casual  \n",
       "0          211.0  41.894177 -87.629127  41.894434 -87.623379        casual  \n",
       "1           29.0  41.890959 -87.635343  41.900675 -87.662480        casual  \n",
       "2           41.0  41.880983 -87.616754  41.872054 -87.629550        casual  \n",
       "3          185.0  41.895499 -87.682013  41.917744 -87.691392        casual  \n",
       "4            2.0  41.876497 -87.620358  41.876448 -87.620338        casual  "
      ]
     },
     "execution_count": 29,
     "metadata": {},
     "output_type": "execute_result"
    }
   ],
   "source": [
    "# Funtion to preprocess datetime string, adding seconds if missing\n",
    "def preprocess_datetime(dt_str):\n",
    "    if pd.isna(dt_str):\n",
    "        return np.nan\n",
    "    if len(dt_str) == 16:  # Format is missing seconds (YYYY-MM-DD HH:MM)\n",
    "        return dt_str + ':00'\n",
    "    # Add leading zero to single-digit hours\n",
    "    if len(dt_str) == 15 and re.match(r'\\d{4}-\\d{2}-\\d{2} \\d:\\d{2}', dt_str):\n",
    "        return dt_str[:11] + '0' + dt_str[11:] + ':00'\n",
    "    \n",
    "    # Add leading zero to single-digit hours with missing seconds\n",
    "    if len(dt_str) == 14 and re.match(r'\\d{4}-\\d{2}-\\d{2} \\d:\\d{2}', dt_str):\n",
    "        return dt_str[:11] + '0' + dt_str[11:] + ':00'\n",
    "    return dt_str\n",
    "\n",
    "# Apply the preprocessing function to both columns\n",
    "df_months['started_at'] = df_months['started_at'].apply(preprocess_datetime)\n",
    "df_months['ended_at'] = df_months['ended_at'].apply(preprocess_datetime)\n",
    "\n",
    "# Convert to date time\n",
    "df_months['started_at'] = pd.to_datetime(df_months['started_at'],format='%Y-%m-%d %H:%M:%S')\n",
    "df_months['ended_at'] = pd.to_datetime(df_months['ended_at'],format='%Y-%m-%d %H:%M:%S')\n",
    "\n",
    "df_months.head()"
   ]
  },
  {
   "cell_type": "markdown",
   "metadata": {},
   "source": [
    "## Data Extraction"
   ]
  },
  {
   "cell_type": "code",
   "execution_count": 30,
   "metadata": {},
   "outputs": [
    {
     "data": {
      "text/plain": [
       "count    5.738812e+06\n",
       "mean     1.208008e+03\n",
       "std      1.752267e+04\n",
       "min     -1.742998e+06\n",
       "25%      4.090000e+02\n",
       "50%      7.250000e+02\n",
       "75%      1.318000e+03\n",
       "max      3.356649e+06\n",
       "Name: ride_duration, dtype: float64"
      ]
     },
     "execution_count": 30,
     "metadata": {},
     "output_type": "execute_result"
    }
   ],
   "source": [
    "# start day of week [Mon, Tue]\n",
    "df_months['day'] = df_months['started_at'].dt.day_name()\n",
    "\n",
    "# start time, from this we can determine if Morn, Afternoon, Night \n",
    "df_months['start_time'] = df_months['started_at'].dt.strftime('%H:%M:%S')\n",
    "df_months['end_time'] = df_months['ended_at'].dt.strftime('%H:%M:%S') # Time when rides ended \n",
    "\n",
    "# Creata a column to assign period based on the time\n",
    "\n",
    "def day_period(time_str):\n",
    "    hour = int(time_str.split(':')[0])\n",
    "    if 0 <= hour < 12:\n",
    "        return 'Morning'\n",
    "    elif 12 <= hour < 18:\n",
    "        return 'Afternoon'\n",
    "    else:\n",
    "        return 'Night'\n",
    "\n",
    "# Apply the function to the 'start_time' column\n",
    "df_months['time_of_day'] = df_months['start_time'].apply(day_period)\n",
    "\n",
    "# month\n",
    "df_months['month'] = df_months['started_at'].dt.strftime(\"%b-%y\")\n",
    "\n",
    "# Find the ride duration is seconds\n",
    "df_months['ride_duration'] = (df_months['ended_at']-df_months['started_at']).dt.total_seconds()\n",
    "\n",
    "# Get basic descriptive stats on the duration\n",
    "df_months['ride_duration'].describe()"
   ]
  },
  {
   "cell_type": "code",
   "execution_count": 31,
   "metadata": {},
   "outputs": [
    {
     "data": {
      "text/plain": [
       "ride_id                    0\n",
       "rideable_type              0\n",
       "started_at                 0\n",
       "ended_at                   0\n",
       "start_station_name    675769\n",
       "start_station_id      675876\n",
       "end_station_name      725658\n",
       "end_station_id        725735\n",
       "start_lat                  0\n",
       "start_lng                  0\n",
       "end_lat                 5022\n",
       "end_lng                 5022\n",
       "member_casual              0\n",
       "day                        0\n",
       "start_time                 0\n",
       "end_time                   0\n",
       "time_of_day                0\n",
       "month                      0\n",
       "ride_duration              0\n",
       "dtype: int64"
      ]
     },
     "execution_count": 31,
     "metadata": {},
     "output_type": "execute_result"
    }
   ],
   "source": [
    "# Check for missing values\n",
    "df_months.isnull().sum()"
   ]
  },
  {
   "cell_type": "code",
   "execution_count": 32,
   "metadata": {},
   "outputs": [
    {
     "data": {
      "text/plain": [
       "(5738812, 19)"
      ]
     },
     "execution_count": 32,
     "metadata": {},
     "output_type": "execute_result"
    }
   ],
   "source": [
    "df_months.shape"
   ]
  },
  {
   "cell_type": "markdown",
   "metadata": {},
   "source": [
    "#### Show distribution"
   ]
  },
  {
   "cell_type": "code",
   "execution_count": 33,
   "metadata": {},
   "outputs": [
    {
     "data": {
      "image/png": "[encoded data removed]",
      "text/plain": [
       "<Figure size 1500x200 with 2 Axes>"
      ]
     },
     "metadata": {},
     "output_type": "display_data"
    },
    {
     "name": "stdout",
     "output_type": "stream",
     "text": [
      "Interquartile range: 909.0\n",
      "Lower Bound: -954.5\n",
      "Upper Bound: 2681.5\n",
      "Mean: 1208.0079748212697\n"
     ]
    }
   ],
   "source": [
    "# Get outliers\n",
    "fig, axes = plt.subplots(1, 2, figsize = (15,2))\n",
    "\n",
    "# Plot 1\n",
    "sns.boxplot(ax=axes[0], x=df_months['ride_duration'], showfliers = False)\n",
    "axes[0].set_title('Total Ride Duration Distribution')\n",
    "\n",
    "# Plot 2\n",
    "sns.boxplot(ax=axes[1], x = df_months['ride_duration'], y = df_months['member_casual'], showfliers = False)\n",
    "axes[1].set_title('Member Ride Duration Distribution by Members')\n",
    "plt.show()\n",
    "\n",
    "p25 = df_months['ride_duration'].quantile(0.25) # 25th percentile\n",
    "p50 = df_months['ride_duration'].quantile(0.5) # 50th percentile\n",
    "p75 = df_months['ride_duration'].quantile(0.75) # 75th percentile\n",
    "\n",
    "# Interquartile range\n",
    "iqr = p75 - p25\n",
    "print(f'Interquartile range: {iqr}')\n",
    "\n",
    "# Lower Limit\n",
    "lower_bound  = p25 - 1.5 * iqr\n",
    "print(f'Lower Bound: {lower_bound}')\n",
    "\n",
    "# Upper Limit\n",
    "upper_bound = p75 + 1.5 * iqr\n",
    "print(f'Upper Bound: {upper_bound}')\n",
    "\n",
    "# Mean\n",
    "print(f'Mean: {df_months['ride_duration'].mean()}')"
   ]
  },
  {
   "cell_type": "markdown",
   "metadata": {},
   "source": [
    "#### Store missing value into a dataframe for analysis"
   ]
  },
  {
   "cell_type": "code",
   "execution_count": 34,
   "metadata": {},
   "outputs": [
    {
     "name": "stdout",
     "output_type": "stream",
     "text": [
      "We have 990075 rows with missing values.\n",
      "Which is 17.25 % of our dataset.\n"
     ]
    }
   ],
   "source": [
    "# Get and store missing values into a dataframe for analysis\n",
    "df_missing = df_months[df_months.isnull().any(axis=1)].reset_index(drop=True)\n",
    "\n",
    "# Remove negative ride durations\n",
    "df_missing = df_missing[df_missing['ride_duration'] >= 0].reset_index(drop=True)\n",
    "\n",
    "# \n",
    "df_missing['missing'] = True\n",
    "\n",
    "print(f'We have {df_missing.shape[0]} rows with missing values.')\n",
    "print(f'Which is {100-((df_months.shape[0] - df_missing.shape[0])/df_months.shape[0])*100:.2f} % of our dataset.')"
   ]
  },
  {
   "cell_type": "code",
   "execution_count": 51,
   "metadata": {},
   "outputs": [
    {
     "data": {
      "text/plain": [
       "(423944, 20)"
      ]
     },
     "execution_count": 51,
     "metadata": {},
     "output_type": "execute_result"
    }
   ],
   "source": [
    "# Drop negative ride duration AND keep outliers\n",
    "df_outliers = df_months[(df_months['ride_duration'] >= 0) & (df_months['ride_duration'] > upper_bound)].reset_index(drop=True)\n",
    "\n",
    "df_outliers['missing'] = False\n",
    "\n",
    "df_outliers.shape"
   ]
  },
  {
   "cell_type": "code",
   "execution_count": 52,
   "metadata": {},
   "outputs": [
    {
     "name": "stdout",
     "output_type": "stream",
     "text": [
      "Number of duplicates 0.\n"
     ]
    },
    {
     "data": {
      "text/html": [
       "<div>\n",
       "<style scoped>\n",
       "    .dataframe tbody tr th:only-of-type {\n",
       "        vertical-align: middle;\n",
       "    }\n",
       "\n",
       "    .dataframe tbody tr th {\n",
       "        vertical-align: top;\n",
       "    }\n",
       "\n",
       "    .dataframe thead th {\n",
       "        text-align: right;\n",
       "    }\n",
       "</style>\n",
       "<table border=\"1\" class=\"dataframe\">\n",
       "  <thead>\n",
       "    <tr style=\"text-align: right;\">\n",
       "      <th></th>\n",
       "      <th>ride_id</th>\n",
       "      <th>rideable_type</th>\n",
       "      <th>started_at</th>\n",
       "      <th>ended_at</th>\n",
       "      <th>start_station_name</th>\n",
       "      <th>start_station_id</th>\n",
       "      <th>end_station_name</th>\n",
       "      <th>end_station_id</th>\n",
       "      <th>start_lat</th>\n",
       "      <th>start_lng</th>\n",
       "      <th>end_lat</th>\n",
       "      <th>end_lng</th>\n",
       "      <th>member_casual</th>\n",
       "      <th>day</th>\n",
       "      <th>start_time</th>\n",
       "      <th>end_time</th>\n",
       "      <th>time_of_day</th>\n",
       "      <th>month</th>\n",
       "      <th>ride_duration</th>\n",
       "      <th>missing</th>\n",
       "    </tr>\n",
       "  </thead>\n",
       "  <tbody>\n",
       "    <tr>\n",
       "      <th>0</th>\n",
       "      <td>7259585D8276D338</td>\n",
       "      <td>electric_bike</td>\n",
       "      <td>2020-11-14 15:55:17</td>\n",
       "      <td>2020-11-14 16:44:38</td>\n",
       "      <td>Wabash Ave &amp; 16th St</td>\n",
       "      <td>72.0</td>\n",
       "      <td>Lake Shore Dr &amp; Monroe St</td>\n",
       "      <td>76.0</td>\n",
       "      <td>41.860289</td>\n",
       "      <td>-87.625806</td>\n",
       "      <td>41.880985</td>\n",
       "      <td>-87.616773</td>\n",
       "      <td>casual</td>\n",
       "      <td>Saturday</td>\n",
       "      <td>15:55:17</td>\n",
       "      <td>16:44:38</td>\n",
       "      <td>Afternoon</td>\n",
       "      <td>Nov-20</td>\n",
       "      <td>2961.0</td>\n",
       "      <td>False</td>\n",
       "    </tr>\n",
       "    <tr>\n",
       "      <th>1</th>\n",
       "      <td>7AC10E240991F19E</td>\n",
       "      <td>electric_bike</td>\n",
       "      <td>2020-11-07 13:30:27</td>\n",
       "      <td>2020-11-07 14:33:42</td>\n",
       "      <td>Wells St &amp; Polk St</td>\n",
       "      <td>175.0</td>\n",
       "      <td>Southport Ave &amp; Clybourn Ave</td>\n",
       "      <td>307.0</td>\n",
       "      <td>41.872491</td>\n",
       "      <td>-87.633822</td>\n",
       "      <td>41.920736</td>\n",
       "      <td>-87.663705</td>\n",
       "      <td>casual</td>\n",
       "      <td>Saturday</td>\n",
       "      <td>13:30:27</td>\n",
       "      <td>14:33:42</td>\n",
       "      <td>Afternoon</td>\n",
       "      <td>Nov-20</td>\n",
       "      <td>3795.0</td>\n",
       "      <td>False</td>\n",
       "    </tr>\n",
       "    <tr>\n",
       "      <th>2</th>\n",
       "      <td>DC6EC1271155826C</td>\n",
       "      <td>electric_bike</td>\n",
       "      <td>2020-11-07 10:55:37</td>\n",
       "      <td>2020-11-07 12:42:15</td>\n",
       "      <td>Dusable Harbor</td>\n",
       "      <td>6.0</td>\n",
       "      <td>Cannon Dr &amp; Fullerton Ave</td>\n",
       "      <td>34.0</td>\n",
       "      <td>41.887082</td>\n",
       "      <td>-87.612795</td>\n",
       "      <td>41.926672</td>\n",
       "      <td>-87.634506</td>\n",
       "      <td>casual</td>\n",
       "      <td>Saturday</td>\n",
       "      <td>10:55:37</td>\n",
       "      <td>12:42:15</td>\n",
       "      <td>Morning</td>\n",
       "      <td>Nov-20</td>\n",
       "      <td>6398.0</td>\n",
       "      <td>False</td>\n",
       "    </tr>\n",
       "    <tr>\n",
       "      <th>3</th>\n",
       "      <td>17C6D1FE18CEA581</td>\n",
       "      <td>electric_bike</td>\n",
       "      <td>2020-11-07 09:40:26</td>\n",
       "      <td>2020-11-07 11:03:04</td>\n",
       "      <td>Greenwood Ave &amp; 47th St</td>\n",
       "      <td>252.0</td>\n",
       "      <td>Greenwood Ave &amp; 47th St</td>\n",
       "      <td>252.0</td>\n",
       "      <td>41.809790</td>\n",
       "      <td>-87.599117</td>\n",
       "      <td>41.809889</td>\n",
       "      <td>-87.599166</td>\n",
       "      <td>casual</td>\n",
       "      <td>Saturday</td>\n",
       "      <td>09:40:26</td>\n",
       "      <td>11:03:04</td>\n",
       "      <td>Morning</td>\n",
       "      <td>Nov-20</td>\n",
       "      <td>4958.0</td>\n",
       "      <td>False</td>\n",
       "    </tr>\n",
       "    <tr>\n",
       "      <th>4</th>\n",
       "      <td>C1CB78CDAD52AE3A</td>\n",
       "      <td>electric_bike</td>\n",
       "      <td>2020-11-07 12:39:52</td>\n",
       "      <td>2020-11-07 14:19:20</td>\n",
       "      <td>Halsted St &amp; Dickens Ave</td>\n",
       "      <td>225.0</td>\n",
       "      <td>NaN</td>\n",
       "      <td>NaN</td>\n",
       "      <td>41.920032</td>\n",
       "      <td>-87.648887</td>\n",
       "      <td>41.920000</td>\n",
       "      <td>-87.650000</td>\n",
       "      <td>casual</td>\n",
       "      <td>Saturday</td>\n",
       "      <td>12:39:52</td>\n",
       "      <td>14:19:20</td>\n",
       "      <td>Afternoon</td>\n",
       "      <td>Nov-20</td>\n",
       "      <td>5968.0</td>\n",
       "      <td>False</td>\n",
       "    </tr>\n",
       "  </tbody>\n",
       "</table>\n",
       "</div>"
      ],
      "text/plain": [
       "            ride_id  rideable_type          started_at            ended_at  \\\n",
       "0  7259585D8276D338  electric_bike 2020-11-14 15:55:17 2020-11-14 16:44:38   \n",
       "1  7AC10E240991F19E  electric_bike 2020-11-07 13:30:27 2020-11-07 14:33:42   \n",
       "2  DC6EC1271155826C  electric_bike 2020-11-07 10:55:37 2020-11-07 12:42:15   \n",
       "3  17C6D1FE18CEA581  electric_bike 2020-11-07 09:40:26 2020-11-07 11:03:04   \n",
       "4  C1CB78CDAD52AE3A  electric_bike 2020-11-07 12:39:52 2020-11-07 14:19:20   \n",
       "\n",
       "         start_station_name start_station_id              end_station_name  \\\n",
       "0      Wabash Ave & 16th St             72.0     Lake Shore Dr & Monroe St   \n",
       "1        Wells St & Polk St            175.0  Southport Ave & Clybourn Ave   \n",
       "2            Dusable Harbor              6.0     Cannon Dr & Fullerton Ave   \n",
       "3   Greenwood Ave & 47th St            252.0       Greenwood Ave & 47th St   \n",
       "4  Halsted St & Dickens Ave            225.0                           NaN   \n",
       "\n",
       "  end_station_id  start_lat  start_lng    end_lat    end_lng member_casual  \\\n",
       "0           76.0  41.860289 -87.625806  41.880985 -87.616773        casual   \n",
       "1          307.0  41.872491 -87.633822  41.920736 -87.663705        casual   \n",
       "2           34.0  41.887082 -87.612795  41.926672 -87.634506        casual   \n",
       "3          252.0  41.809790 -87.599117  41.809889 -87.599166        casual   \n",
       "4            NaN  41.920032 -87.648887  41.920000 -87.650000        casual   \n",
       "\n",
       "        day start_time  end_time time_of_day   month  ride_duration  missing  \n",
       "0  Saturday   15:55:17  16:44:38   Afternoon  Nov-20         2961.0    False  \n",
       "1  Saturday   13:30:27  14:33:42   Afternoon  Nov-20         3795.0    False  \n",
       "2  Saturday   10:55:37  12:42:15     Morning  Nov-20         6398.0    False  \n",
       "3  Saturday   09:40:26  11:03:04     Morning  Nov-20         4958.0    False  \n",
       "4  Saturday   12:39:52  14:19:20   Afternoon  Nov-20         5968.0    False  "
      ]
     },
     "execution_count": 52,
     "metadata": {},
     "output_type": "execute_result"
    }
   ],
   "source": [
    "# Join missing and outliers\n",
    "# df = pd.concat([df_missing, df_outliers], axis=0)\n",
    "\n",
    "df = df_outliers\n",
    "\n",
    "# Check for duplicates\n",
    "print(f'Number of duplicates {df.duplicated().sum()}.')\n",
    "\n",
    "# Drop duplicates\n",
    "df.drop_duplicates(keep='last',inplace=True)\n",
    "\n",
    "df.head()"
   ]
  },
  {
   "cell_type": "markdown",
   "metadata": {},
   "source": [
    "## Investigate null rows"
   ]
  },
  {
   "cell_type": "markdown",
   "metadata": {},
   "source": [
    "### User-Based Analysis\n",
    "- What is the distribution of outliers across different members?"
   ]
  },
  {
   "cell_type": "code",
   "execution_count": 53,
   "metadata": {},
   "outputs": [
    {
     "name": "stdout",
     "output_type": "stream",
     "text": [
      "Total number of bad rides: 423944\n",
      "Members: 61873\n",
      "Casual: 362071\n"
     ]
    }
   ],
   "source": [
    "# Total number of rides\n",
    "print(f'Total number of bad rides: {df.count()['ride_id']}')\n",
    "\n",
    "# members and casual\n",
    "print(f'Members: {df['member_casual'].value_counts()['member']}') \n",
    "print(f'Casual: {df['member_casual'].value_counts()['casual']}') "
   ]
  },
  {
   "cell_type": "code",
   "execution_count": 54,
   "metadata": {},
   "outputs": [
    {
     "data": {
      "text/html": [
       "<div>\n",
       "<style scoped>\n",
       "    .dataframe tbody tr th:only-of-type {\n",
       "        vertical-align: middle;\n",
       "    }\n",
       "\n",
       "    .dataframe tbody tr th {\n",
       "        vertical-align: top;\n",
       "    }\n",
       "\n",
       "    .dataframe thead th {\n",
       "        text-align: right;\n",
       "    }\n",
       "</style>\n",
       "<table border=\"1\" class=\"dataframe\">\n",
       "  <thead>\n",
       "    <tr style=\"text-align: right;\">\n",
       "      <th></th>\n",
       "      <th>member_casual</th>\n",
       "      <th>ride_duration</th>\n",
       "    </tr>\n",
       "  </thead>\n",
       "  <tbody>\n",
       "    <tr>\n",
       "      <th>0</th>\n",
       "      <td>casual</td>\n",
       "      <td>7780.603484</td>\n",
       "    </tr>\n",
       "    <tr>\n",
       "      <th>1</th>\n",
       "      <td>member</td>\n",
       "      <td>5765.607923</td>\n",
       "    </tr>\n",
       "  </tbody>\n",
       "</table>\n",
       "</div>"
      ],
      "text/plain": [
       "  member_casual  ride_duration\n",
       "0        casual    7780.603484\n",
       "1        member    5765.607923"
      ]
     },
     "execution_count": 54,
     "metadata": {},
     "output_type": "execute_result"
    }
   ],
   "source": [
    "# Ride duration comparison\n",
    "df.groupby('member_casual').agg({'ride_duration':'mean'}).reset_index()"
   ]
  },
  {
   "cell_type": "markdown",
   "metadata": {},
   "source": [
    "#### Summary\n",
    "- Distribution:\n",
    "Casual riders account for the majority of the bad rides (85.4%).\n",
    "Member riders account for the remaining 14.6% of the bad rides.\n",
    "- Average Ride Duration:\n",
    "Casual riders have a higher average ride duration compared to member riders.\n",
    "\n",
    "This summary provides a clear view of how outliers are distributed among casual and member riders, highlighting both the quantity of bad rides and the average ride durations for each group."
   ]
  },
  {
   "cell_type": "markdown",
   "metadata": {},
   "source": [
    "### Bike Type-Based Analysis\n",
    "- Which bike models or types have higher rates of anomalies or outliers?\n",
    "- Do certain bike types experience more mechanical issues leading to outlier rides?\n",
    "- How does the distribution of ride durations vary across different bike types?\n"
   ]
  },
  {
   "cell_type": "markdown",
   "metadata": {},
   "source": [
    "#### Which bike types have higher rates of outliers or bad data?"
   ]
  },
  {
   "cell_type": "code",
   "execution_count": 55,
   "metadata": {},
   "outputs": [
    {
     "name": "stdout",
     "output_type": "stream",
     "text": [
      "rideable_type\n",
      "classic_bike     204274\n",
      "docked_bike      110820\n",
      "electric_bike    108850\n",
      "Name: count, dtype: int64\n"
     ]
    },
    {
     "data": {
      "text/plain": [
       "Text(0, 0.5, 'Number of Rides')"
      ]
     },
     "execution_count": 55,
     "metadata": {},
     "output_type": "execute_result"
    },
    {
     "data": {
      "image/png": "[encoded data removed]",
      "text/plain": [
       "<Figure size 1400x600 with 1 Axes>"
      ]
     },
     "metadata": {},
     "output_type": "display_data"
    }
   ],
   "source": [
    "print(df['rideable_type'].value_counts())\n",
    "\n",
    "df_bp = df.groupby(['rideable_type']).count()['ride_id'].reset_index()\n",
    "\n",
    "# Plot\n",
    "plt.figure(figsize = (14,6))\n",
    "sns.barplot(data = df_bp, x = 'rideable_type', y = 'ride_id', hue = 'rideable_type')\n",
    "\n",
    "# Plot a bargraph\n",
    "def addlabels(x,y,labels):\n",
    "    for i in range(len(x)):\n",
    "        plt.text(i,y[i],labels[i], ha='center', va='bottom')\n",
    "\n",
    "addlabels(df_bp.index, df_bp['ride_id'], df_bp['ride_id'])\n",
    "\n",
    "plt.title('Weekly Rides by Member Type')\n",
    "plt.xlabel('Day of Week')\n",
    "plt.ylabel('Number of Rides')\n"
   ]
  },
  {
   "cell_type": "markdown",
   "metadata": {},
   "source": [
    "#### Summary \n",
    "Classic bikes have the highest number of outliers, with 204,274 rides. In comparison, docked bikes and electric bikes have fewer outliers, with 110,820 and 108,850 rides, respectively.\n",
    "\n",
    "This indicates that classic bikes might have a higher rate of issues or anomalies in the dataset compared to docked and electric bikes. This could be due to several factors, such as:\n",
    "\n",
    "- Usage Patterns: Classic bikes might be used more frequently or in different conditions that lead to more data anomalies.\n",
    "- Bike Maintenance: Classic bikes might require more maintenance or might be more prone to issues that could reflect as outliers in the data."
   ]
  },
  {
   "cell_type": "markdown",
   "metadata": {},
   "source": [
    "#### How does the distribution of ride durations vary across different bike types?"
   ]
  },
  {
   "cell_type": "code",
   "execution_count": 56,
   "metadata": {},
   "outputs": [
    {
     "data": {
      "image/png": "[encoded data removed]",
      "text/plain": [
       "<Figure size 1000x400 with 1 Axes>"
      ]
     },
     "metadata": {},
     "output_type": "display_data"
    },
    {
     "name": "stdout",
     "output_type": "stream",
     "text": [
      "               ride_duration\n",
      "rideable_type               \n",
      "classic_bike     6577.925664\n",
      "docked_bike     11994.537123\n",
      "electric_bike    4602.044575\n"
     ]
    }
   ],
   "source": [
    "import seaborn as sns\n",
    "\n",
    "# Plot box plots\n",
    "plt.figure(figsize=(10, 4))\n",
    "sns.boxplot(y='rideable_type', x='ride_duration', data=df, showfliers = False)\n",
    "plt.ylabel('Bike Type')\n",
    "plt.xlabel('Ride Duration (seconds)')\n",
    "plt.title('Box Plot of Ride Durations by Bike Type')\n",
    "plt.show()\n",
    "\n",
    "print(df.groupby('rideable_type').agg({'ride_duration':'mean'}))"
   ]
  },
  {
   "cell_type": "markdown",
   "metadata": {},
   "source": [
    "### Summary"
   ]
  },
  {
   "cell_type": "markdown",
   "metadata": {},
   "source": [
    "- Insight: Docked bikes have the highest mean ride duration, suggesting that they are associated with longer trips compared to the other bike types.\n",
    "- Possible Reasons: This could indicate that docked bikes are used for longer journeys, possibly for commuting or travel between locations that are not easily reachable by shorter rides. It might also be indicative of users keeping docked bikes for extended periods.\n",
    "\n",
    "This analysis suggests that electric bikes tend to be used for shorter, more consistent trips, while classic and docked bikes are associated with longer and more varied ride durations, with classic bikes showing the greatest variability and number of long-duration rides."
   ]
  },
  {
   "cell_type": "markdown",
   "metadata": {},
   "source": [
    "## Ride-Based Analysis"
   ]
  },
  {
   "cell_type": "markdown",
   "metadata": {},
   "source": [
    "#### How do the ride durations of outliers compare to typical rides?"
   ]
  },
  {
   "cell_type": "markdown",
   "metadata": {},
   "source": [
    "Outlier Ride Duration by Members"
   ]
  },
  {
   "cell_type": "code",
   "execution_count": 57,
   "metadata": {},
   "outputs": [
    {
     "data": {
      "text/html": [
       "<div>\n",
       "<style scoped>\n",
       "    .dataframe tbody tr th:only-of-type {\n",
       "        vertical-align: middle;\n",
       "    }\n",
       "\n",
       "    .dataframe tbody tr th {\n",
       "        vertical-align: top;\n",
       "    }\n",
       "\n",
       "    .dataframe thead th {\n",
       "        text-align: right;\n",
       "    }\n",
       "</style>\n",
       "<table border=\"1\" class=\"dataframe\">\n",
       "  <thead>\n",
       "    <tr style=\"text-align: right;\">\n",
       "      <th></th>\n",
       "      <th>member_casual</th>\n",
       "      <th>ride_duration</th>\n",
       "    </tr>\n",
       "  </thead>\n",
       "  <tbody>\n",
       "    <tr>\n",
       "      <th>0</th>\n",
       "      <td>casual</td>\n",
       "      <td>7780.603484</td>\n",
       "    </tr>\n",
       "    <tr>\n",
       "      <th>1</th>\n",
       "      <td>member</td>\n",
       "      <td>5765.607923</td>\n",
       "    </tr>\n",
       "  </tbody>\n",
       "</table>\n",
       "</div>"
      ],
      "text/plain": [
       "  member_casual  ride_duration\n",
       "0        casual    7780.603484\n",
       "1        member    5765.607923"
      ]
     },
     "execution_count": 57,
     "metadata": {},
     "output_type": "execute_result"
    }
   ],
   "source": [
    "df.groupby('member_casual').agg({'ride_duration':'mean'}).reset_index()"
   ]
  },
  {
   "cell_type": "markdown",
   "metadata": {},
   "source": [
    "Ride Duration for typical rides"
   ]
  },
  {
   "cell_type": "code",
   "execution_count": 58,
   "metadata": {},
   "outputs": [
    {
     "name": "stdout",
     "output_type": "stream",
     "text": [
      "Number of clean data: 4382260.\n"
     ]
    },
    {
     "data": {
      "text/html": [
       "<div>\n",
       "<style scoped>\n",
       "    .dataframe tbody tr th:only-of-type {\n",
       "        vertical-align: middle;\n",
       "    }\n",
       "\n",
       "    .dataframe tbody tr th {\n",
       "        vertical-align: top;\n",
       "    }\n",
       "\n",
       "    .dataframe thead th {\n",
       "        text-align: right;\n",
       "    }\n",
       "</style>\n",
       "<table border=\"1\" class=\"dataframe\">\n",
       "  <thead>\n",
       "    <tr style=\"text-align: right;\">\n",
       "      <th></th>\n",
       "      <th>member_casual</th>\n",
       "      <th>ride_duration</th>\n",
       "    </tr>\n",
       "  </thead>\n",
       "  <tbody>\n",
       "    <tr>\n",
       "      <th>0</th>\n",
       "      <td>casual</td>\n",
       "      <td>995.878002</td>\n",
       "    </tr>\n",
       "    <tr>\n",
       "      <th>1</th>\n",
       "      <td>member</td>\n",
       "      <td>729.937950</td>\n",
       "    </tr>\n",
       "  </tbody>\n",
       "</table>\n",
       "</div>"
      ],
      "text/plain": [
       "  member_casual  ride_duration\n",
       "0        casual     995.878002\n",
       "1        member     729.937950"
      ]
     },
     "execution_count": 58,
     "metadata": {},
     "output_type": "execute_result"
    }
   ],
   "source": [
    "# Get clean rides\n",
    "df_clean = df_months\n",
    "# rtemove outliers and negatives\n",
    "df_clean = df_clean[(df_clean['ride_duration'] >= 0) & (df_clean['ride_duration'] < upper_bound)]\n",
    "# drop na values\n",
    "df_clean = df_clean.dropna(axis=0).reset_index(drop=True)\n",
    "\n",
    "print(f'Number of clean data: {df_clean.shape[0]}.')\n",
    "\n",
    "df_clean.groupby('member_casual').agg({'ride_duration':'mean'}).reset_index()"
   ]
  },
  {
   "cell_type": "markdown",
   "metadata": {},
   "source": [
    "#### Summary\n",
    "- Casual Riders: The discrepancy suggests that while the average casual ride duration is much lower, there are a few exceptionally long rides. These outliers could be due to special circumstances or rare usage patterns.\n",
    "- Members: Similarly, members also have a small number of exceptionally long rides, though their typical ride duration is shorter than that of casual riders. The long outlier rides for members may indicate different usage patterns or behaviors not captured by the typical ride duration.\n",
    "\n",
    "In summary, outliers have ride durations that are several times longer than the typical ride durations for both casual riders and members. This information can be useful for understanding rare but significant usage patterns"
   ]
  },
  {
   "cell_type": "markdown",
   "metadata": {},
   "source": [
    "#### Do outliers tend to occur more on certain days of the week or at certain times of the day?\n"
   ]
  },
  {
   "cell_type": "code",
   "execution_count": 59,
   "metadata": {},
   "outputs": [
    {
     "data": {
      "text/plain": [
       "<matplotlib.legend.Legend at 0x13cb221cef0>"
      ]
     },
     "execution_count": 59,
     "metadata": {},
     "output_type": "execute_result"
    },
    {
     "data": {
      "image/png": "[encoded data removed]",
      "text/plain": [
       "<Figure size 1400x600 with 1 Axes>"
      ]
     },
     "metadata": {},
     "output_type": "display_data"
    }
   ],
   "source": [
    "# What day of the week do outliers occcur more frequently\n",
    "df_od = df.groupby(['member_casual','day']).count()['ride_id'].reset_index()\n",
    "\n",
    "week_order = ['Sunday','Monday','Tuesday','Wednesday','Thursday','Friday','Saturday']\n",
    "\n",
    "# Plot\n",
    "plt.figure(figsize = (14,6))\n",
    "sns.barplot(data = df_od, x = 'day', y = 'ride_id', hue = 'member_casual', order= week_order)\n",
    "\n",
    "plt.title('Weekly Rides by Member Type')\n",
    "plt.xlabel('Day of Week')\n",
    "plt.ylabel('Number of Rides')\n",
    "\n",
    "# Show legend\n",
    "plt.legend()"
   ]
  },
  {
   "cell_type": "markdown",
   "metadata": {},
   "source": [
    "#### Summary\n",
    "Outliers tend to occur more frequently on weekends for both casual and member riders:\n",
    "\n",
    "- Casual Riders: The highest number of outliers is observed on Saturday, followed by Sunday and Friday. The lowest number of outliers occurs on Wednesday.\n",
    "- Member Riders: The highest number of outliers is also on Saturday, followed by Friday, Tuesday, and Wednesday. The lowest number of outliers occurs on Monday.\n",
    "\n",
    "Observations\n",
    "- Weekends: Both casual and member riders have a significantly higher number of outliers on weekends, particularly on Saturdays.\n",
    "- Weekdays: For casual riders, Monday also shows a relatively high number of outliers. For member riders, Tuesday and Wednesday have a higher number of outliers compared to other weekdays.\n",
    "\n",
    "This suggests that outliers in ride durations are more common on weekends, possibly due to more leisurely and extended rides during these days."
   ]
  },
  {
   "cell_type": "markdown",
   "metadata": {},
   "source": [
    "#### What time of the day do outliers occcur more frequently?"
   ]
  },
  {
   "cell_type": "code",
   "execution_count": 60,
   "metadata": {},
   "outputs": [
    {
     "name": "stdout",
     "output_type": "stream",
     "text": [
      "  member_casual time_of_day  ride_id\n",
      "0        casual   Afternoon   187737\n",
      "1        casual     Morning    82961\n",
      "2        casual       Night    91373\n",
      "3        member   Afternoon    30440\n",
      "4        member     Morning    15636\n",
      "5        member       Night    15797\n"
     ]
    },
    {
     "data": {
      "image/png": "[encoded data removed]",
      "text/plain": [
       "<Figure size 1400x600 with 1 Axes>"
      ]
     },
     "metadata": {},
     "output_type": "display_data"
    }
   ],
   "source": [
    "df_tod = df.groupby(['member_casual','time_of_day']).count()['ride_id'].reset_index()\n",
    "\n",
    "day_order = ['Morning','Afternoon','Night']\n",
    "# Plot\n",
    "plt.figure(figsize = (14,6))\n",
    "sns.barplot(data = df_tod, x = 'time_of_day', y = 'ride_id', hue = 'member_casual', order= day_order)\n",
    "\n",
    "plt.title('Peak Daily Rides by Member Type')\n",
    "plt.xlabel('Time of Day')\n",
    "plt.ylabel('Number of Rides')\n",
    "\n",
    "# Show legend\n",
    "plt.legend()\n",
    "\n",
    "print(df_tod)"
   ]
  },
  {
   "cell_type": "markdown",
   "metadata": {},
   "source": [
    "#### Summary\n",
    "Missing data and outliers tend to occur more frequently in the afternoon for both casual and member riders:\n",
    "\n",
    "- Casual Riders: The highest number of outliers occurs in the afternoon, followed by night and then morning.\n",
    "- Member Riders: Similarly, the highest number of outliers occurs in the afternoon, followed by morning and then night.\n",
    "\n",
    "Observations\n",
    "- Afternoon: Both casual and member riders have the most outliers in the afternoon, indicating that extended ride durations are more common during this time of day.\n",
    "- Morning and Night: While casual riders experience more outliers at night compared to the morning, member riders have slightly more outliers in the morning compared to the night.\n",
    "\n",
    "This suggests that the afternoon is a peak time for outliers in ride durations, likely due to riders taking longer trips during this period."
   ]
  },
  {
   "cell_type": "markdown",
   "metadata": {},
   "source": [
    "#### Are there specific times or seasons when outliers are more common?"
   ]
  },
  {
   "cell_type": "code",
   "execution_count": 61,
   "metadata": {},
   "outputs": [
    {
     "data": {
      "text/plain": [
       "<matplotlib.legend.Legend at 0x13cb5192d50>"
      ]
     },
     "execution_count": 61,
     "metadata": {},
     "output_type": "execute_result"
    },
    {
     "data": {
      "image/png": "[encoded data removed]",
      "text/plain": [
       "<Figure size 1400x600 with 1 Axes>"
      ]
     },
     "metadata": {},
     "output_type": "display_data"
    }
   ],
   "source": [
    "df_mod = df.groupby(['member_casual','month']).count()['ride_id'].reset_index()\n",
    "\n",
    "month_order = ['Nov-20','Dec-20','Jan-21','Feb-21','Mar-21','Apr-21','May-21','Jun-21','Jul-21',\n",
    "               'Aug-21','Sep-21','Oct-21','Nov-21']\n",
    "# Plot\n",
    "plt.figure(figsize = (14,6))\n",
    "sns.barplot(data = df_mod, x = 'month', y = 'ride_id', hue = 'member_casual', order= month_order)\n",
    "\n",
    "\n",
    "plt.title('Peak Daily Rides by Member Type')\n",
    "plt.xlabel('Time of Day')\n",
    "plt.ylabel('Number of Rides')\n",
    "\n",
    "# Show legend\n",
    "plt.legend()"
   ]
  },
  {
   "cell_type": "markdown",
   "metadata": {},
   "source": [
    "## Station and Location Analysis\n",
    "Which stations have the most missing data?"
   ]
  },
  {
   "cell_type": "markdown",
   "metadata": {},
   "source": [
    "Outliers - Memeber Start Station"
   ]
  },
  {
   "cell_type": "code",
   "execution_count": 62,
   "metadata": {},
   "outputs": [
    {
     "name": "stdout",
     "output_type": "stream",
     "text": [
      "The most used member station is: Streeter Dr & Grand Ave\n",
      "The Top 10 member stations by ride count:\n"
     ]
    },
    {
     "data": {
      "text/plain": [
       "start_station_name\n",
       "Streeter Dr & Grand Ave            996\n",
       "Lakefront Trail & Bryn Mawr Ave    701\n",
       "Theater on the Lake                646\n",
       "Michigan Ave & Oak St              625\n",
       "Wabash Ave & Grand Ave             546\n",
       "Dearborn St & Erie St              537\n",
       "Burnham Harbor                     519\n",
       "Indiana Ave & Roosevelt Rd         494\n",
       "Montrose Harbor                    476\n",
       "Millennium Park                    410\n",
       "Name: count, dtype: int64"
      ]
     },
     "execution_count": 62,
     "metadata": {},
     "output_type": "execute_result"
    }
   ],
   "source": [
    "# Outlier Start stations and the location\n",
    "print(f'The most used member station is: {df['start_station_name'].value_counts().reset_index()['start_station_name'][0]}')\n",
    "print('The Top 10 member stations by ride count:')\n",
    "df_m = df[df['member_casual'] == 'member'] \n",
    "df_m['start_station_name'].value_counts().sort_values(ascending=False).iloc[0:10]"
   ]
  },
  {
   "cell_type": "markdown",
   "metadata": {},
   "source": [
    "Outlier - Member Destination Station"
   ]
  },
  {
   "cell_type": "code",
   "execution_count": 63,
   "metadata": {},
   "outputs": [
    {
     "name": "stdout",
     "output_type": "stream",
     "text": [
      "The most used member station is: Streeter Dr & Grand Ave\n",
      "The Top 10 member stations by ride count:\n"
     ]
    },
    {
     "data": {
      "text/plain": [
       "end_station_name\n",
       "Streeter Dr & Grand Ave            956\n",
       "Theater on the Lake                812\n",
       "Michigan Ave & Oak St              691\n",
       "Lakefront Trail & Bryn Mawr Ave    686\n",
       "Dearborn St & Erie St              652\n",
       "Wabash Ave & Grand Ave             581\n",
       "Burnham Harbor                     574\n",
       "Montrose Harbor                    494\n",
       "Shore Dr & 55th St                 475\n",
       "Lake Shore Dr & Monroe St          472\n",
       "Name: count, dtype: int64"
      ]
     },
     "execution_count": 63,
     "metadata": {},
     "output_type": "execute_result"
    }
   ],
   "source": [
    "print(f'The most used member station is: {df['end_station_name'].value_counts().reset_index()['end_station_name'][0]}')\n",
    "print('The Top 10 member stations by ride count:')\n",
    "df_md = df[df['member_casual'] == 'member'] \n",
    "df_md['end_station_name'].value_counts().sort_values(ascending=False).iloc[0:10]"
   ]
  },
  {
   "cell_type": "markdown",
   "metadata": {},
   "source": [
    "Oultiers - Casual Start Station"
   ]
  },
  {
   "cell_type": "code",
   "execution_count": 64,
   "metadata": {},
   "outputs": [
    {
     "name": "stdout",
     "output_type": "stream",
     "text": [
      "The most used member station is: Streeter Dr & Grand Ave\n",
      "The Top 10 casual stations by ride count:\n"
     ]
    },
    {
     "data": {
      "text/plain": [
       "start_station_name\n",
       "Streeter Dr & Grand Ave              17521\n",
       "Millennium Park                      11499\n",
       "Michigan Ave & Oak St                 8504\n",
       "Lake Shore Dr & Monroe St             6758\n",
       "Shedd Aquarium                        4946\n",
       "Buckingham Fountain                   4368\n",
       "Theater on the Lake                   4324\n",
       "Michigan Ave & Washington St          4316\n",
       "Indiana Ave & Roosevelt Rd            4292\n",
       "DuSable Lake Shore Dr & Monroe St     4241\n",
       "Name: count, dtype: int64"
      ]
     },
     "execution_count": 64,
     "metadata": {},
     "output_type": "execute_result"
    }
   ],
   "source": [
    "# Outlier Start stations and the location\n",
    "print(f'The most used member station is: {df['start_station_name'].value_counts().reset_index()['start_station_name'][0]}')\n",
    "print('The Top 10 casual stations by ride count:')\n",
    "df_c = df[df['member_casual'] == 'casual'] \n",
    "df_c['start_station_name'].value_counts().sort_values(ascending=False).iloc[0:10]"
   ]
  },
  {
   "cell_type": "code",
   "execution_count": 65,
   "metadata": {},
   "outputs": [
    {
     "name": "stdout",
     "output_type": "stream",
     "text": [
      "The most used member station is: Streeter Dr & Grand Ave\n",
      "The Top 10 member stations by ride count:\n"
     ]
    },
    {
     "data": {
      "text/plain": [
       "end_station_name\n",
       "Streeter Dr & Grand Ave              19832\n",
       "Millennium Park                      10815\n",
       "Michigan Ave & Oak St                 9206\n",
       "Lake Shore Dr & Monroe St             6751\n",
       "Theater on the Lake                   5531\n",
       "DuSable Lake Shore Dr & Monroe St     4422\n",
       "Shedd Aquarium                        4412\n",
       "Buckingham Fountain                   4261\n",
       "Indiana Ave & Roosevelt Rd            4196\n",
       "Michigan Ave & 8th St                 4080\n",
       "Name: count, dtype: int64"
      ]
     },
     "execution_count": 65,
     "metadata": {},
     "output_type": "execute_result"
    }
   ],
   "source": [
    "print(f'The most used member station is: {df['end_station_name'].value_counts().reset_index()['end_station_name'][0]}')\n",
    "print('The Top 10 member stations by ride count:')\n",
    "df_md = df[df['member_casual'] == 'casual'] \n",
    "df_md['end_station_name'].value_counts().sort_values(ascending=False).iloc[0:10]"
   ]
  },
  {
   "cell_type": "markdown",
   "metadata": {},
   "source": [
    "## Summary and Conclusion\n",
    "- Members Analysis: Outliers are characterized by significantly longer ride durations, especially for casual riders.\n",
    "- Bike Type-Based Analysis: Electric bikes have a much higher rate of anomalies compared to classic and docked bikes. This might be due to more frequent technical issues associated with electric bikes.\n",
    "- Weekends (Saturday and Sunday) show a higher incidence of anomalies for both casual riders and members, suggesting higher usage during peak days.\n",
    "- Outliers are most frequent in the afternoon for both casual riders and members. This might be due to higher activity levels and potential system overloads during these times.\n",
    "- Summer months (June, July, and August) and early fall (September and October) see a higher incidence of outliers for both casual riders and members. This pattern suggests seasonal peaks in usage which might lead to more data anomalies due to increased system load or seasonal events affecting ride behavior."
   ]
  }
 ],
 "metadata": {
  "kernelspec": {
   "display_name": "Python 3",
   "language": "python",
   "name": "python3"
  },
  "language_info": {
   "codemirror_mode": {
    "name": "ipython",
    "version": 3
   },
   "file_extension": ".py",
   "mimetype": "text/x-python",
   "name": "python",
   "nbconvert_exporter": "python",
   "pygments_lexer": "ipython3",
   "version": "3.12.4"
  }
 },
 "nbformat": 4,
 "nbformat_minor": 2
}
