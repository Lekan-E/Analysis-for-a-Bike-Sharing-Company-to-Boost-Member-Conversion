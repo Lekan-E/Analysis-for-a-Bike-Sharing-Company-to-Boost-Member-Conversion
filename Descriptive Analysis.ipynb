{
 "cells": [
  {
   "cell_type": "markdown",
   "metadata": {},
   "source": [
    "# Descriptive Analysis"
   ]
  },
  {
   "cell_type": "markdown",
   "metadata": {},
   "source": [
    "### Import libraries"
   ]
  },
  {
   "cell_type": "code",
   "execution_count": 21,
   "metadata": {},
   "outputs": [],
   "source": [
    "# Data manipulation packages\n",
    "import pandas as pd\n",
    "import numpy as np\n",
    "import re\n",
    "# Data visualization packages\n",
    "import matplotlib.pyplot as plt\n",
    "import seaborn as sns "
   ]
  },
  {
   "cell_type": "markdown",
   "metadata": {},
   "source": [
    "### Import data"
   ]
  },
  {
   "cell_type": "code",
   "execution_count": 22,
   "metadata": {},
   "outputs": [],
   "source": [
    "# Import all the monthly csv dataset\n",
    "nov_20 = pd.read_csv(r\"./202011-divvy-tripdata.csv\")\n",
    "dec_20 = pd.read_csv(r'./202012-divvy-tripdata.csv')\n",
    "jan_21 = pd.read_csv(r'./202101-divvy-tripdata.csv')\n",
    "feb_21 = pd.read_csv(r'./202102-divvy-tripdata.csv')\n",
    "march_21 = pd.read_csv(r'./202103-divvy-tripdata.csv')\n",
    "april_21 = pd.read_csv(r'./202104-divvy-tripdata.csv')\n",
    "may_21 = pd.read_csv(r'./202105-divvy-tripdata.csv')\n",
    "jun_21 = pd.read_csv(r'./202106-divvy-tripdata.csv')\n",
    "july_21 = pd.read_csv(r'./202107-divvy-tripdata.csv')\n",
    "aug_21 = pd.read_csv(r'./202108-divvy-tripdata.csv')\n",
    "sept_21 = pd.read_csv(r'./202109-divvy-tripdata.csv')\n",
    "oct_21 = pd.read_csv(r'./202110-divvy-tripdata.csv')\n",
    "nov_21 = pd.read_csv(r'./202111-divvy-tripdata.csv')\n",
    "\n",
    "# Join all months into a single dataframe\n",
    "months = [nov_20, dec_20, jan_21, feb_21, march_21, april_21, may_21, jun_21, july_21, aug_21, sept_21, oct_21, nov_21]\n",
    "df_months = pd.concat(months)\n"
   ]
  },
  {
   "cell_type": "markdown",
   "metadata": {},
   "source": [
    "Explore data with EDA"
   ]
  },
  {
   "cell_type": "code",
   "execution_count": 23,
   "metadata": {},
   "outputs": [
    {
     "data": {
      "text/html": [
       "<div>\n",
       "<style scoped>\n",
       "    .dataframe tbody tr th:only-of-type {\n",
       "        vertical-align: middle;\n",
       "    }\n",
       "\n",
       "    .dataframe tbody tr th {\n",
       "        vertical-align: top;\n",
       "    }\n",
       "\n",
       "    .dataframe thead th {\n",
       "        text-align: right;\n",
       "    }\n",
       "</style>\n",
       "<table border=\"1\" class=\"dataframe\">\n",
       "  <thead>\n",
       "    <tr style=\"text-align: right;\">\n",
       "      <th></th>\n",
       "      <th>ride_id</th>\n",
       "      <th>rideable_type</th>\n",
       "      <th>started_at</th>\n",
       "      <th>ended_at</th>\n",
       "      <th>start_station_name</th>\n",
       "      <th>start_station_id</th>\n",
       "      <th>end_station_name</th>\n",
       "      <th>end_station_id</th>\n",
       "      <th>start_lat</th>\n",
       "      <th>start_lng</th>\n",
       "      <th>end_lat</th>\n",
       "      <th>end_lng</th>\n",
       "      <th>member_casual</th>\n",
       "    </tr>\n",
       "  </thead>\n",
       "  <tbody>\n",
       "    <tr>\n",
       "      <th>0</th>\n",
       "      <td>BD0A6FF6FFF9B921</td>\n",
       "      <td>electric_bike</td>\n",
       "      <td>2020-11-01 13:36:00</td>\n",
       "      <td>2020-11-01 13:45:40</td>\n",
       "      <td>Dearborn St &amp; Erie St</td>\n",
       "      <td>110.0</td>\n",
       "      <td>St. Clair St &amp; Erie St</td>\n",
       "      <td>211.0</td>\n",
       "      <td>41.894177</td>\n",
       "      <td>-87.629127</td>\n",
       "      <td>41.894434</td>\n",
       "      <td>-87.623379</td>\n",
       "      <td>casual</td>\n",
       "    </tr>\n",
       "    <tr>\n",
       "      <th>1</th>\n",
       "      <td>96A7A7A4BDE4F82D</td>\n",
       "      <td>electric_bike</td>\n",
       "      <td>2020-11-01 10:03:26</td>\n",
       "      <td>2020-11-01 10:14:45</td>\n",
       "      <td>Franklin St &amp; Illinois St</td>\n",
       "      <td>672.0</td>\n",
       "      <td>Noble St &amp; Milwaukee Ave</td>\n",
       "      <td>29.0</td>\n",
       "      <td>41.890959</td>\n",
       "      <td>-87.635343</td>\n",
       "      <td>41.900675</td>\n",
       "      <td>-87.662480</td>\n",
       "      <td>casual</td>\n",
       "    </tr>\n",
       "    <tr>\n",
       "      <th>2</th>\n",
       "      <td>C61526D06582BDC5</td>\n",
       "      <td>electric_bike</td>\n",
       "      <td>2020-11-01 00:34:05</td>\n",
       "      <td>2020-11-01 01:03:06</td>\n",
       "      <td>Lake Shore Dr &amp; Monroe St</td>\n",
       "      <td>76.0</td>\n",
       "      <td>Federal St &amp; Polk St</td>\n",
       "      <td>41.0</td>\n",
       "      <td>41.880983</td>\n",
       "      <td>-87.616754</td>\n",
       "      <td>41.872054</td>\n",
       "      <td>-87.629550</td>\n",
       "      <td>casual</td>\n",
       "    </tr>\n",
       "    <tr>\n",
       "      <th>3</th>\n",
       "      <td>E533E89C32080B9E</td>\n",
       "      <td>electric_bike</td>\n",
       "      <td>2020-11-01 00:45:16</td>\n",
       "      <td>2020-11-01 00:54:31</td>\n",
       "      <td>Leavitt St &amp; Chicago Ave</td>\n",
       "      <td>659.0</td>\n",
       "      <td>Stave St &amp; Armitage Ave</td>\n",
       "      <td>185.0</td>\n",
       "      <td>41.895499</td>\n",
       "      <td>-87.682013</td>\n",
       "      <td>41.917744</td>\n",
       "      <td>-87.691392</td>\n",
       "      <td>casual</td>\n",
       "    </tr>\n",
       "    <tr>\n",
       "      <th>4</th>\n",
       "      <td>1C9F4EF18C168C60</td>\n",
       "      <td>electric_bike</td>\n",
       "      <td>2020-11-01 15:43:25</td>\n",
       "      <td>2020-11-01 16:16:52</td>\n",
       "      <td>Buckingham Fountain</td>\n",
       "      <td>2.0</td>\n",
       "      <td>Buckingham Fountain</td>\n",
       "      <td>2.0</td>\n",
       "      <td>41.876497</td>\n",
       "      <td>-87.620358</td>\n",
       "      <td>41.876448</td>\n",
       "      <td>-87.620338</td>\n",
       "      <td>casual</td>\n",
       "    </tr>\n",
       "  </tbody>\n",
       "</table>\n",
       "</div>"
      ],
      "text/plain": [
       "            ride_id  rideable_type           started_at             ended_at  \\\n",
       "0  BD0A6FF6FFF9B921  electric_bike  2020-11-01 13:36:00  2020-11-01 13:45:40   \n",
       "1  96A7A7A4BDE4F82D  electric_bike  2020-11-01 10:03:26  2020-11-01 10:14:45   \n",
       "2  C61526D06582BDC5  electric_bike  2020-11-01 00:34:05  2020-11-01 01:03:06   \n",
       "3  E533E89C32080B9E  electric_bike  2020-11-01 00:45:16  2020-11-01 00:54:31   \n",
       "4  1C9F4EF18C168C60  electric_bike  2020-11-01 15:43:25  2020-11-01 16:16:52   \n",
       "\n",
       "          start_station_name start_station_id          end_station_name  \\\n",
       "0      Dearborn St & Erie St            110.0    St. Clair St & Erie St   \n",
       "1  Franklin St & Illinois St            672.0  Noble St & Milwaukee Ave   \n",
       "2  Lake Shore Dr & Monroe St             76.0      Federal St & Polk St   \n",
       "3   Leavitt St & Chicago Ave            659.0   Stave St & Armitage Ave   \n",
       "4        Buckingham Fountain              2.0       Buckingham Fountain   \n",
       "\n",
       "  end_station_id  start_lat  start_lng    end_lat    end_lng member_casual  \n",
       "0          211.0  41.894177 -87.629127  41.894434 -87.623379        casual  \n",
       "1           29.0  41.890959 -87.635343  41.900675 -87.662480        casual  \n",
       "2           41.0  41.880983 -87.616754  41.872054 -87.629550        casual  \n",
       "3          185.0  41.895499 -87.682013  41.917744 -87.691392        casual  \n",
       "4            2.0  41.876497 -87.620358  41.876448 -87.620338        casual  "
      ]
     },
     "execution_count": 23,
     "metadata": {},
     "output_type": "execute_result"
    }
   ],
   "source": [
    "# Display the first few rows\n",
    "df_months.head()"
   ]
  },
  {
   "cell_type": "code",
   "execution_count": 24,
   "metadata": {},
   "outputs": [
    {
     "name": "stdout",
     "output_type": "stream",
     "text": [
      "<class 'pandas.core.frame.DataFrame'>\n",
      "Index: 5738812 entries, 0 to 359977\n",
      "Data columns (total 13 columns):\n",
      " #   Column              Dtype  \n",
      "---  ------              -----  \n",
      " 0   ride_id             object \n",
      " 1   rideable_type       object \n",
      " 2   started_at          object \n",
      " 3   ended_at            object \n",
      " 4   start_station_name  object \n",
      " 5   start_station_id    object \n",
      " 6   end_station_name    object \n",
      " 7   end_station_id      object \n",
      " 8   start_lat           float64\n",
      " 9   start_lng           float64\n",
      " 10  end_lat             float64\n",
      " 11  end_lng             float64\n",
      " 12  member_casual       object \n",
      "dtypes: float64(4), object(9)\n",
      "memory usage: 613.0+ MB\n"
     ]
    }
   ],
   "source": [
    "# Get basic information\n",
    "df_months.info()"
   ]
  },
  {
   "cell_type": "code",
   "execution_count": 25,
   "metadata": {},
   "outputs": [
    {
     "data": {
      "text/plain": [
       "0"
      ]
     },
     "execution_count": 25,
     "metadata": {},
     "output_type": "execute_result"
    }
   ],
   "source": [
    "# Check for duplicates\n",
    "df_months.duplicated().sum()"
   ]
  },
  {
   "cell_type": "code",
   "execution_count": 26,
   "metadata": {},
   "outputs": [
    {
     "data": {
      "text/plain": [
       "ride_id                    0\n",
       "rideable_type              0\n",
       "started_at                 0\n",
       "ended_at                   0\n",
       "start_station_name    675769\n",
       "start_station_id      675876\n",
       "end_station_name      725658\n",
       "end_station_id        725735\n",
       "start_lat                  0\n",
       "start_lng                  0\n",
       "end_lat                 5022\n",
       "end_lng                 5022\n",
       "member_casual              0\n",
       "dtype: int64"
      ]
     },
     "execution_count": 26,
     "metadata": {},
     "output_type": "execute_result"
    }
   ],
   "source": [
    "# Check for missing values\n",
    "df_months.isnull().sum()"
   ]
  },
  {
   "cell_type": "code",
   "execution_count": 27,
   "metadata": {},
   "outputs": [],
   "source": [
    "# Drop the rows with missing values\n",
    "df_months = df_months.dropna(axis=0).reset_index(drop=True)"
   ]
  },
  {
   "cell_type": "code",
   "execution_count": 28,
   "metadata": {},
   "outputs": [
    {
     "data": {
      "text/plain": [
       "(4748631, 13)"
      ]
     },
     "execution_count": 28,
     "metadata": {},
     "output_type": "execute_result"
    }
   ],
   "source": [
    "# Get the number of rows, columns\n",
    "df_months.shape"
   ]
  },
  {
   "cell_type": "markdown",
   "metadata": {},
   "source": [
    "### Data Processing\n",
    "- Convert the data type\n",
    "- Calculate ride duration (end - start time)"
   ]
  },
  {
   "cell_type": "markdown",
   "metadata": {},
   "source": [
    "We need to standardize our datetime to match the format [%Y-%m-%d %H:%M:%S]"
   ]
  },
  {
   "cell_type": "code",
   "execution_count": 29,
   "metadata": {},
   "outputs": [
    {
     "name": "stdout",
     "output_type": "stream",
     "text": [
      "<class 'pandas.core.frame.DataFrame'>\n",
      "RangeIndex: 4748631 entries, 0 to 4748630\n",
      "Data columns (total 13 columns):\n",
      " #   Column              Dtype         \n",
      "---  ------              -----         \n",
      " 0   ride_id             object        \n",
      " 1   rideable_type       object        \n",
      " 2   started_at          datetime64[ns]\n",
      " 3   ended_at            datetime64[ns]\n",
      " 4   start_station_name  object        \n",
      " 5   start_station_id    object        \n",
      " 6   end_station_name    object        \n",
      " 7   end_station_id      object        \n",
      " 8   start_lat           float64       \n",
      " 9   start_lng           float64       \n",
      " 10  end_lat             float64       \n",
      " 11  end_lng             float64       \n",
      " 12  member_casual       object        \n",
      "dtypes: datetime64[ns](2), float64(4), object(7)\n",
      "memory usage: 471.0+ MB\n"
     ]
    }
   ],
   "source": [
    "# Funtion to preprocess datetime string, adding seconds if missing\n",
    "def preprocess_datetime(dt_str):\n",
    "    if pd.isna(dt_str):\n",
    "        return np.nan\n",
    "    if len(dt_str) == 16:  # Format is missing seconds (YYYY-MM-DD HH:MM)\n",
    "        return dt_str + ':00'\n",
    "    # Add leading zero to single-digit hours\n",
    "    if len(dt_str) == 15 and re.match(r'\\d{4}-\\d{2}-\\d{2} \\d:\\d{2}', dt_str):\n",
    "        return dt_str[:11] + '0' + dt_str[11:] + ':00'\n",
    "    \n",
    "    # Add leading zero to single-digit hours with missing seconds\n",
    "    if len(dt_str) == 14 and re.match(r'\\d{4}-\\d{2}-\\d{2} \\d:\\d{2}', dt_str):\n",
    "        return dt_str[:11] + '0' + dt_str[11:] + ':00'\n",
    "    return dt_str\n",
    "\n",
    "# Apply the preprocessing function to both columns\n",
    "df_months['started_at'] = df_months['started_at'].apply(preprocess_datetime)\n",
    "df_months['ended_at'] = df_months['ended_at'].apply(preprocess_datetime)\n",
    "\n",
    "# Convert to date time\n",
    "df_months['started_at'] = pd.to_datetime(df_months['started_at'],format='%Y-%m-%d %H:%M:%S')\n",
    "df_months['ended_at'] = pd.to_datetime(df_months['ended_at'],format='%Y-%m-%d %H:%M:%S')\n",
    "\n",
    "df_months.info()"
   ]
  },
  {
   "cell_type": "markdown",
   "metadata": {},
   "source": [
    "### Data Extraction"
   ]
  },
  {
   "cell_type": "code",
   "execution_count": 30,
   "metadata": {},
   "outputs": [
    {
     "data": {
      "text/plain": [
       "count    4.748631e+06\n",
       "mean     1.197582e+03\n",
       "std      1.776839e+04\n",
       "min     -1.742998e+06\n",
       "25%      4.200000e+02\n",
       "50%      7.360000e+02\n",
       "75%      1.335000e+03\n",
       "max      3.356649e+06\n",
       "Name: ride_duration, dtype: float64"
      ]
     },
     "execution_count": 30,
     "metadata": {},
     "output_type": "execute_result"
    }
   ],
   "source": [
    "# start day of week [Mon, Tue]\n",
    "df_months['day'] = df_months['started_at'].dt.day_name()\n",
    "\n",
    "# start time, from this we can determine if Morn, Afternoon, Night \n",
    "df_months['start_time'] = df_months['started_at'].dt.strftime('%H:%M:%S')\n",
    "df_months['end_time'] = df_months['ended_at'].dt.strftime('%H:%M:%S') # Time when rides ended \n",
    "# month\n",
    "df_months['month'] = df_months['started_at'].dt.strftime(\"%b-%y\")\n",
    "\n",
    "# Find the ride duration is seconds\n",
    "df_months['ride_duration'] = (df_months['ended_at']-df_months['started_at']).dt.total_seconds()\n",
    "\n",
    "# Get basic descriptive stats on the duration\n",
    "df_months['ride_duration'].describe()"
   ]
  },
  {
   "cell_type": "code",
   "execution_count": 31,
   "metadata": {},
   "outputs": [],
   "source": [
    "week_order = ['Sunday','Monday','Tuesday','Wednesday','Thursday','Friday','Saturday']\n",
    "# Order month column\n",
    "month_order = ['Nov-20','Dec-20','Jan-21','Feb-21','Mar-21','Apr-21','May-21','Jun-21','Jul-21',\n",
    "               'Aug-21','Sep-21','Oct-21','Nov-21']\n",
    "day_order = ['Morning','Afternoon','Night']\n"
   ]
  },
  {
   "cell_type": "markdown",
   "metadata": {},
   "source": [
    "### Data Cleaning\n",
    "Remove negative and extreme ride durations using IQR"
   ]
  },
  {
   "cell_type": "code",
   "execution_count": 32,
   "metadata": {},
   "outputs": [
    {
     "data": {
      "image/png": "[encoded data removed]",
      "text/plain": [
       "<Figure size 1500x200 with 2 Axes>"
      ]
     },
     "metadata": {},
     "output_type": "display_data"
    },
    {
     "name": "stdout",
     "output_type": "stream",
     "text": [
      "Interquartile range: 915.0\n",
      "Lower Bound: -952.5\n",
      "Upper Bound: 2707.5\n",
      "Mean: 1197.582227804182\n"
     ]
    }
   ],
   "source": [
    "fig, axes = plt.subplots(1, 2, figsize = (15,2))\n",
    "\n",
    "# Plot 1\n",
    "sns.boxplot(ax=axes[0], x=df_months['ride_duration'], showfliers = False)\n",
    "axes[0].set_title('Total Ride Duration Distribution')\n",
    "\n",
    "# Plot 2\n",
    "sns.boxplot(ax=axes[1], x = df_months['ride_duration'], y = df_months['member_casual'], showfliers = False)\n",
    "axes[1].set_title('Member Ride Duration Distribution by Members')\n",
    "plt.show()\n",
    "\n",
    "p25 = df_months['ride_duration'].quantile(0.25) # 25th percentile\n",
    "p50 = df_months['ride_duration'].quantile(0.5) # 50th percentile\n",
    "p75 = df_months['ride_duration'].quantile(0.75) # 75th percentile\n",
    "\n",
    "# Interquartile range\n",
    "iqr = p75 - p25\n",
    "print(f'Interquartile range: {iqr}')\n",
    "\n",
    "# Lower Limit\n",
    "lower_bound  = p25 - 1.5 * iqr\n",
    "print(f'Lower Bound: {lower_bound}')\n",
    "\n",
    "# Upper Limit\n",
    "upper_bound = p75 + 1.5 * iqr\n",
    "print(f'Upper Bound: {upper_bound}')\n",
    "\n",
    "# Mean\n",
    "print(f'Mean: {df_months['ride_duration'].mean()}')"
   ]
  },
  {
   "cell_type": "markdown",
   "metadata": {},
   "source": [
    "Eliminate outliers"
   ]
  },
  {
   "cell_type": "code",
   "execution_count": 33,
   "metadata": {},
   "outputs": [
    {
     "name": "stdout",
     "output_type": "stream",
     "text": [
      "No of data points after cleaning: 4388563\n",
      "Percentage of outliers dropped: 7.582564322222553%\n"
     ]
    }
   ],
   "source": [
    "# Eliminate outliers above the upper bound and negative ride durations\n",
    "df_clean = df_months[(df_months['ride_duration'] >= 0) & (df_months['ride_duration'] <= upper_bound)]\n",
    "\n",
    "print(f'No of data points after cleaning: {df_clean.shape[0]}')\n",
    "print(f'Percentage of outliers dropped: {((df_months.shape[0] - df_clean.shape[0])/df_months.shape[0])*100}%')"
   ]
  },
  {
   "cell_type": "markdown",
   "metadata": {},
   "source": [
    "## Exploratory Data Analysis\n",
    "### Descriptive Analysis\n",
    "To understand overall usage patterns such as \n",
    "- total number of rides per month, day and hour\n",
    "- member vs casaul users\n",
    "- identify popular stations."
   ]
  },
  {
   "cell_type": "code",
   "execution_count": 34,
   "metadata": {},
   "outputs": [
    {
     "name": "stdout",
     "output_type": "stream",
     "text": [
      "Total number of rides: 4388563\n",
      "Members: 2602712\n",
      "Casual: 1785851\n"
     ]
    }
   ],
   "source": [
    "df = df_clean\n",
    "\n",
    "# Total number of rides\n",
    "print(f'Total number of rides: {df_clean.count()['ride_id']}')\n",
    "\n",
    "# members and casual\n",
    "print(f'Members: {df_clean['member_casual'].value_counts()['member']}') \n",
    "print(f'Casual: {df_clean['member_casual'].value_counts()['casual']}') "
   ]
  },
  {
   "cell_type": "markdown",
   "metadata": {},
   "source": [
    "### Ride Preference by Month, Week and Time of Day"
   ]
  },
  {
   "cell_type": "markdown",
   "metadata": {},
   "source": [
    "#### 1. Total Rides by Month"
   ]
  },
  {
   "cell_type": "code",
   "execution_count": 35,
   "metadata": {},
   "outputs": [
    {
     "name": "stdout",
     "output_type": "stream",
     "text": [
      "Month with the most number of rides: Jul-21 [631388] rides\n",
      "Month with the least number of rides: Feb-21 [40908] rides\n"
     ]
    },
    {
     "data": {
      "text/html": [
       "<div>\n",
       "<style scoped>\n",
       "    .dataframe tbody tr th:only-of-type {\n",
       "        vertical-align: middle;\n",
       "    }\n",
       "\n",
       "    .dataframe tbody tr th {\n",
       "        vertical-align: top;\n",
       "    }\n",
       "\n",
       "    .dataframe thead th {\n",
       "        text-align: right;\n",
       "    }\n",
       "</style>\n",
       "<table border=\"1\" class=\"dataframe\">\n",
       "  <thead>\n",
       "    <tr style=\"text-align: right;\">\n",
       "      <th></th>\n",
       "      <th>month</th>\n",
       "      <th>count</th>\n",
       "    </tr>\n",
       "  </thead>\n",
       "  <tbody>\n",
       "    <tr>\n",
       "      <th>0</th>\n",
       "      <td>Jul-21</td>\n",
       "      <td>631388</td>\n",
       "    </tr>\n",
       "    <tr>\n",
       "      <th>1</th>\n",
       "      <td>Aug-21</td>\n",
       "      <td>621698</td>\n",
       "    </tr>\n",
       "    <tr>\n",
       "      <th>2</th>\n",
       "      <td>Sep-21</td>\n",
       "      <td>577637</td>\n",
       "    </tr>\n",
       "    <tr>\n",
       "      <th>3</th>\n",
       "      <td>Jun-21</td>\n",
       "      <td>552477</td>\n",
       "    </tr>\n",
       "    <tr>\n",
       "      <th>4</th>\n",
       "      <td>Oct-21</td>\n",
       "      <td>452844</td>\n",
       "    </tr>\n",
       "    <tr>\n",
       "      <th>5</th>\n",
       "      <td>May-21</td>\n",
       "      <td>403931</td>\n",
       "    </tr>\n",
       "    <tr>\n",
       "      <th>6</th>\n",
       "      <td>Apr-21</td>\n",
       "      <td>271496</td>\n",
       "    </tr>\n",
       "    <tr>\n",
       "      <th>7</th>\n",
       "      <td>Nov-21</td>\n",
       "      <td>248518</td>\n",
       "    </tr>\n",
       "    <tr>\n",
       "      <th>8</th>\n",
       "      <td>Nov-20</td>\n",
       "      <td>207289</td>\n",
       "    </tr>\n",
       "    <tr>\n",
       "      <th>9</th>\n",
       "      <td>Mar-21</td>\n",
       "      <td>188943</td>\n",
       "    </tr>\n",
       "    <tr>\n",
       "      <th>10</th>\n",
       "      <td>Dec-20</td>\n",
       "      <td>109944</td>\n",
       "    </tr>\n",
       "    <tr>\n",
       "      <th>11</th>\n",
       "      <td>Jan-21</td>\n",
       "      <td>81490</td>\n",
       "    </tr>\n",
       "    <tr>\n",
       "      <th>12</th>\n",
       "      <td>Feb-21</td>\n",
       "      <td>40908</td>\n",
       "    </tr>\n",
       "  </tbody>\n",
       "</table>\n",
       "</div>"
      ],
      "text/plain": [
       "     month   count\n",
       "0   Jul-21  631388\n",
       "1   Aug-21  621698\n",
       "2   Sep-21  577637\n",
       "3   Jun-21  552477\n",
       "4   Oct-21  452844\n",
       "5   May-21  403931\n",
       "6   Apr-21  271496\n",
       "7   Nov-21  248518\n",
       "8   Nov-20  207289\n",
       "9   Mar-21  188943\n",
       "10  Dec-20  109944\n",
       "11  Jan-21   81490\n",
       "12  Feb-21   40908"
      ]
     },
     "execution_count": 35,
     "metadata": {},
     "output_type": "execute_result"
    }
   ],
   "source": [
    "print(f'Month with the most number of rides: {df['month'].value_counts().reset_index()['month'][0]} [{df['month'].value_counts().max()}] rides')\n",
    "print(f'Month with the least number of rides: {df['month'].value_counts().reset_index()['month'][12]} [{df['month'].value_counts().min()}] rides')\n",
    "\n",
    "# Total number of rides per month\n",
    "df['month'].value_counts().sort_values(ascending=False).reset_index()"
   ]
  },
  {
   "cell_type": "markdown",
   "metadata": {},
   "source": [
    "#### Plot the ride comparison for member and casual"
   ]
  },
  {
   "cell_type": "code",
   "execution_count": 36,
   "metadata": {},
   "outputs": [
    {
     "data": {
      "image/png": "[encoded data removed]",
      "text/plain": [
       "<Figure size 1400x600 with 1 Axes>"
      ]
     },
     "metadata": {},
     "output_type": "display_data"
    }
   ],
   "source": [
    "# Aggregate the data - quicker run time\n",
    "df_mmc = df.groupby(['month','member_casual']).count()['ride_id'].reset_index()\n",
    "\n",
    "# Plot\n",
    "plt.figure(figsize = (14,6))\n",
    "sns.barplot(data = df_mmc, x = 'month', y = 'ride_id', hue = 'member_casual', order=month_order)\n",
    "\n",
    "\n",
    "plt.title('Monthly Rides by Member Type')\n",
    "plt.xlabel('Month')\n",
    "plt.ylabel('Number of Rides')\n",
    "\n",
    "# Show legend\n",
    "plt.legend()\n",
    "\n",
    "# Show graph\n",
    "plt.show()"
   ]
  },
  {
   "cell_type": "markdown",
   "metadata": {},
   "source": [
    "### Monthly Observation\n",
    "- There is a clear seasonal pattern in the usage of the bike-sharing service. Both casual and member rides significantly increase during the warmer months (May to September) and decrease during the colder months (November to February).\n",
    "- The peak usage for both casual and member riders occurs in the summer months, particularly in July and August.\n",
    "- There is a noticeable drop in the number of rides during the winter months (December to February). This decline is more pronounced for casual riders compared to members.\n",
    "\n",
    "### Monthly Recommendations\n",
    "- Targeted Marketing: Marketing efforts can be intensified in the spring to attract both casual and potential member users in preparation for the peak summer months.\n",
    "- Organize community events and bike rides during the spring and summer months to boost engagement and attract more casual users.\n",
    "- Highlight the benefits of membership during the winter months to encourage casual users to become members, ensuring more stable usage throughout the year."
   ]
  },
  {
   "cell_type": "markdown",
   "metadata": {},
   "source": [
    "#### 2. Rides by day of week"
   ]
  },
  {
   "cell_type": "code",
   "execution_count": 37,
   "metadata": {},
   "outputs": [
    {
     "name": "stdout",
     "output_type": "stream",
     "text": [
      "The most used day of the week: Saturday [767531] rides.\n",
      "The least used day of the week: Monday [559948] rides.\n"
     ]
    },
    {
     "data": {
      "text/plain": [
       "day\n",
       "Saturday     767531\n",
       "Sunday       657675\n",
       "Friday       629843\n",
       "Wednesday    599027\n",
       "Tuesday      593463\n",
       "Thursday     581076\n",
       "Monday       559948\n",
       "Name: count, dtype: int64"
      ]
     },
     "execution_count": 37,
     "metadata": {},
     "output_type": "execute_result"
    }
   ],
   "source": [
    "print(f'The most used day of the week: {df['day'].value_counts().reset_index()['day'][0]} [{df['day'].value_counts().max()}] rides.')\n",
    "print(f'The least used day of the week: {df['day'].value_counts().reset_index()['day'][6]} [{df['day'].value_counts().min()}] rides.')\n",
    "df['day'].value_counts().sort_values(ascending=False)"
   ]
  },
  {
   "cell_type": "markdown",
   "metadata": {},
   "source": [
    "Narrow to member type"
   ]
  },
  {
   "cell_type": "code",
   "execution_count": 38,
   "metadata": {},
   "outputs": [
    {
     "data": {
      "text/plain": [
       "<matplotlib.legend.Legend at 0x10c63b63800>"
      ]
     },
     "execution_count": 38,
     "metadata": {},
     "output_type": "execute_result"
    },
    {
     "data": {
      "image/png": "[encoded data removed]",
      "text/plain": [
       "<Figure size 1400x600 with 1 Axes>"
      ]
     },
     "metadata": {},
     "output_type": "display_data"
    }
   ],
   "source": [
    "# Aggregate the data - quicker run time\n",
    "df_dmc = df.groupby(['day','member_casual']).count()['ride_id'].reset_index()\n",
    "\n",
    "# Plot\n",
    "plt.figure(figsize = (14,6))\n",
    "sns.barplot(data = df_dmc, x = 'day', y = 'ride_id', hue = 'member_casual', order= week_order)\n",
    "\n",
    "\n",
    "plt.title('Weekly Rides by Member Type')\n",
    "plt.xlabel('Day of Week')\n",
    "plt.ylabel('Number of Rides')\n",
    "\n",
    "# Show legend\n",
    "plt.legend()\n",
    "\n",
    "# Show graph"
   ]
  },
  {
   "cell_type": "markdown",
   "metadata": {},
   "source": [
    "#### Summary\n",
    "- Weekend Usage: Casual riders show significantly higher usage on weekends, with Saturday being the peak day. This suggests that casual riders are likely using the bikes for leisure and recreational purposes.\n",
    "- Member Usage: Member riders exhibit a more consistent and high usage pattern throughout the week, with a notable peak on Wednesday. This indicates that members might be using the bike-sharing service for regular commuting.\n",
    "- Weekday Preferences: Members have high usage on Tuesday, Wednesday, Thursday, and Friday, reflecting a preference for using the service during workdays, likely for commuting."
   ]
  },
  {
   "cell_type": "markdown",
   "metadata": {},
   "source": [
    "#### 3. Total Rides by period of day"
   ]
  },
  {
   "cell_type": "code",
   "execution_count": 39,
   "metadata": {},
   "outputs": [
    {
     "name": "stderr",
     "output_type": "stream",
     "text": [
      "C:\\Users\\Razak\\AppData\\Local\\Temp\\ipykernel_20048\\3852045919.py:13: SettingWithCopyWarning: \n",
      "A value is trying to be set on a copy of a slice from a DataFrame.\n",
      "Try using .loc[row_indexer,col_indexer] = value instead\n",
      "\n",
      "See the caveats in the documentation: https://pandas.pydata.org/pandas-docs/stable/user_guide/indexing.html#returning-a-view-versus-a-copy\n",
      "  df['time_of_day'] = df['start_time'].apply(day_period)\n"
     ]
    },
    {
     "name": "stdout",
     "output_type": "stream",
     "text": [
      "  time_of_day member_casual  ride_id\n",
      "0   Afternoon        casual   808516\n",
      "1   Afternoon        member  1126972\n",
      "2     Morning        casual   420754\n",
      "3     Morning        member   798266\n",
      "4       Night        casual   556581\n",
      "5       Night        member   677474\n"
     ]
    },
    {
     "data": {
      "image/png": "[encoded data removed]",
      "text/plain": [
       "<Figure size 1400x600 with 1 Axes>"
      ]
     },
     "metadata": {},
     "output_type": "display_data"
    }
   ],
   "source": [
    "# Creata a column to assign period based on the time\n",
    "\n",
    "def day_period(time_str):\n",
    "    hour = int(time_str.split(':')[0])\n",
    "    if 0 <= hour < 12:\n",
    "        return 'Morning'\n",
    "    elif 12 <= hour < 18:\n",
    "        return 'Afternoon'\n",
    "    else:\n",
    "        return 'Night'\n",
    "\n",
    "# Apply the function to the 'start_time' column\n",
    "df['time_of_day'] = df['start_time'].apply(day_period)\n",
    "\n",
    "# Aggregate\n",
    "df_td = df.groupby(['time_of_day','member_casual']).count()['ride_id'].reset_index()\n",
    "\n",
    "\n",
    "# Plot\n",
    "plt.figure(figsize = (14,6))\n",
    "sns.barplot(data = df_td, x = 'time_of_day', y = 'ride_id', hue = 'member_casual', order=day_order)\n",
    "\n",
    "\n",
    "plt.title('Weekly Rides by Member Type')\n",
    "plt.xlabel('Day of Week')\n",
    "plt.ylabel('Number of Rides')\n",
    "\n",
    "# Show legend\n",
    "plt.legend()\n",
    "\n",
    "# Show graph\n",
    "print(df_td)"
   ]
  },
  {
   "cell_type": "markdown",
   "metadata": {},
   "source": [
    "#### Summary \n",
    "- Peak Usage: Both casual and member riders prefer biking in the afternoon, making it the busiest time of the day.\n",
    "- Member Riders: Have a consistent and high usage pattern throughout the day, with a notable peak in the afternoon. Morning and night times also see significant usage, reflecting potential commuting patterns.\n",
    "- Casual Riders: Show a strong preference for afternoon and night rides, indicating leisure or non-commuting uses. Morning rides are less frequent compared to other times."
   ]
  },
  {
   "cell_type": "markdown",
   "metadata": {},
   "source": [
    "### Weekly Recommendations\n",
    "- Offer promotions and discounts specifically aimed at casual users on weekdays to balance the usage patterns and increase ridership during these days.\n",
    "- Implement loyalty programs or additional perks for members to encourage continued usage, especially on weekends.\n",
    "- Organize events or partner with local attractions and businesses on weekends to attract more casual users and potentially convert them into members."
   ]
  },
  {
   "cell_type": "markdown",
   "metadata": {},
   "source": [
    "## Bike Preference"
   ]
  },
  {
   "cell_type": "markdown",
   "metadata": {},
   "source": [
    "Total Bike Usage"
   ]
  },
  {
   "cell_type": "code",
   "execution_count": 43,
   "metadata": {},
   "outputs": [
    {
     "data": {
      "text/html": [
       "<div>\n",
       "<style scoped>\n",
       "    .dataframe tbody tr th:only-of-type {\n",
       "        vertical-align: middle;\n",
       "    }\n",
       "\n",
       "    .dataframe tbody tr th {\n",
       "        vertical-align: top;\n",
       "    }\n",
       "\n",
       "    .dataframe thead th {\n",
       "        text-align: right;\n",
       "    }\n",
       "</style>\n",
       "<table border=\"1\" class=\"dataframe\">\n",
       "  <thead>\n",
       "    <tr style=\"text-align: right;\">\n",
       "      <th></th>\n",
       "      <th>rideable_type</th>\n",
       "      <th>count</th>\n",
       "    </tr>\n",
       "  </thead>\n",
       "  <tbody>\n",
       "    <tr>\n",
       "      <th>0</th>\n",
       "      <td>classic_bike</td>\n",
       "      <td>3017660</td>\n",
       "    </tr>\n",
       "    <tr>\n",
       "      <th>1</th>\n",
       "      <td>electric_bike</td>\n",
       "      <td>1009807</td>\n",
       "    </tr>\n",
       "    <tr>\n",
       "      <th>2</th>\n",
       "      <td>docked_bike</td>\n",
       "      <td>361096</td>\n",
       "    </tr>\n",
       "  </tbody>\n",
       "</table>\n",
       "</div>"
      ],
      "text/plain": [
       "   rideable_type    count\n",
       "0   classic_bike  3017660\n",
       "1  electric_bike  1009807\n",
       "2    docked_bike   361096"
      ]
     },
     "execution_count": 43,
     "metadata": {},
     "output_type": "execute_result"
    }
   ],
   "source": [
    "df['rideable_type'].value_counts().reset_index()"
   ]
  },
  {
   "cell_type": "code",
   "execution_count": 44,
   "metadata": {},
   "outputs": [
    {
     "data": {
      "text/html": [
       "<div>\n",
       "<style scoped>\n",
       "    .dataframe tbody tr th:only-of-type {\n",
       "        vertical-align: middle;\n",
       "    }\n",
       "\n",
       "    .dataframe tbody tr th {\n",
       "        vertical-align: top;\n",
       "    }\n",
       "\n",
       "    .dataframe thead th {\n",
       "        text-align: right;\n",
       "    }\n",
       "</style>\n",
       "<table border=\"1\" class=\"dataframe\">\n",
       "  <thead>\n",
       "    <tr style=\"text-align: right;\">\n",
       "      <th></th>\n",
       "      <th>rideable_type</th>\n",
       "      <th>member_casual</th>\n",
       "      <th>ride_id</th>\n",
       "    </tr>\n",
       "  </thead>\n",
       "  <tbody>\n",
       "    <tr>\n",
       "      <th>0</th>\n",
       "      <td>classic_bike</td>\n",
       "      <td>casual</td>\n",
       "      <td>1091415</td>\n",
       "    </tr>\n",
       "    <tr>\n",
       "      <th>1</th>\n",
       "      <td>classic_bike</td>\n",
       "      <td>member</td>\n",
       "      <td>1926245</td>\n",
       "    </tr>\n",
       "    <tr>\n",
       "      <th>2</th>\n",
       "      <td>docked_bike</td>\n",
       "      <td>casual</td>\n",
       "      <td>250364</td>\n",
       "    </tr>\n",
       "    <tr>\n",
       "      <th>3</th>\n",
       "      <td>docked_bike</td>\n",
       "      <td>member</td>\n",
       "      <td>110732</td>\n",
       "    </tr>\n",
       "    <tr>\n",
       "      <th>4</th>\n",
       "      <td>electric_bike</td>\n",
       "      <td>casual</td>\n",
       "      <td>444072</td>\n",
       "    </tr>\n",
       "    <tr>\n",
       "      <th>5</th>\n",
       "      <td>electric_bike</td>\n",
       "      <td>member</td>\n",
       "      <td>565735</td>\n",
       "    </tr>\n",
       "  </tbody>\n",
       "</table>\n",
       "</div>"
      ],
      "text/plain": [
       "   rideable_type member_casual  ride_id\n",
       "0   classic_bike        casual  1091415\n",
       "1   classic_bike        member  1926245\n",
       "2    docked_bike        casual   250364\n",
       "3    docked_bike        member   110732\n",
       "4  electric_bike        casual   444072\n",
       "5  electric_bike        member   565735"
      ]
     },
     "execution_count": 44,
     "metadata": {},
     "output_type": "execute_result"
    },
    {
     "data": {
      "image/png": "[encoded data removed]",
      "text/plain": [
       "<Figure size 1400x600 with 1 Axes>"
      ]
     },
     "metadata": {},
     "output_type": "display_data"
    }
   ],
   "source": [
    "df_bp = df.groupby(['rideable_type','member_casual']).count()['ride_id'].reset_index()\n",
    "\n",
    "# Plot\n",
    "plt.figure(figsize = (14,6))\n",
    "sns.barplot(data = df_bp, x = 'member_casual', y = 'ride_id', hue = 'rideable_type')\n",
    "\n",
    "\n",
    "plt.title('Bike Preference by Member Type')\n",
    "plt.xlabel('Member Type')\n",
    "plt.ylabel('Number of Rides')\n",
    "\n",
    "# Show legend\n",
    "plt.legend()\n",
    "\n",
    "df_bp"
   ]
  },
  {
   "cell_type": "markdown",
   "metadata": {},
   "source": [
    "#### Summary\n",
    "- Classic Bikes: Most used bike type for both casual and member riders, with members showing a strong preference.\n",
    "- Docked Bikes: Least popular among all types, with significantly lower usage, particularly by members.\n",
    "- Electric Bikes: Moderately popular, with higher usage by members. Their popularity indicates a growing trend towards electric bikes for convenience and speed."
   ]
  }
 ],
 "metadata": {
  "kernelspec": {
   "display_name": "Python 3",
   "language": "python",
   "name": "python3"
  },
  "language_info": {
   "codemirror_mode": {
    "name": "ipython",
    "version": 3
   },
   "file_extension": ".py",
   "mimetype": "text/x-python",
   "name": "python",
   "nbconvert_exporter": "python",
   "pygments_lexer": "ipython3",
   "version": "3.12.4"
  }
 },
 "nbformat": 4,
 "nbformat_minor": 2
}
