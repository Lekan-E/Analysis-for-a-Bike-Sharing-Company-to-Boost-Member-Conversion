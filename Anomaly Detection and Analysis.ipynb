{
 "cells": [
  {
   "cell_type": "markdown",
   "metadata": {},
   "source": [
    "# Anomaly Detection"
   ]
  },
  {
   "cell_type": "markdown",
   "metadata": {},
   "source": [
    "### Import libraries"
   ]
  },
  {
   "cell_type": "code",
   "execution_count": 229,
   "metadata": {},
   "outputs": [],
   "source": [
    "# Data manipulation packages\n",
    "import pandas as pd\n",
    "import numpy as np\n",
    "import re\n",
    "# Data visualization packages\n",
    "import matplotlib.pyplot as plt\n",
    "import seaborn as sns \n",
    "import folium\n",
    "\n",
    "# Important tools for modeling and evaluation.\n",
    "from sklearn.cluster import KMeans\n",
    "from sklearn.metrics import silhouette_score\n",
    "from sklearn.preprocessing import StandardScaler\n",
    "from sklearn.preprocessing import OneHotEncoder"
   ]
  },
  {
   "cell_type": "markdown",
   "metadata": {},
   "source": [
    "### Import data"
   ]
  },
  {
   "cell_type": "code",
   "execution_count": 174,
   "metadata": {},
   "outputs": [],
   "source": [
    "# import for mac\n",
    "# Import all the monthly csv dataset\n",
    "nov_20 = pd.read_csv(r\"./202011-divvy-tripdata.csv\")\n",
    "dec_20 = pd.read_csv(r'./202012-divvy-tripdata.csv')\n",
    "jan_21 = pd.read_csv(r'./202101-divvy-tripdata.csv')\n",
    "feb_21 = pd.read_csv(r'./202102-divvy-tripdata.csv')\n",
    "march_21 = pd.read_csv(r'./202103-divvy-tripdata.csv')\n",
    "april_21 = pd.read_csv(r'./202104-divvy-tripdata.csv')\n",
    "may_21 = pd.read_csv(r'./202105-divvy-tripdata.csv')\n",
    "jun_21 = pd.read_csv(r'./202106-divvy-tripdata.csv')\n",
    "july_21 = pd.read_csv(r'./202107-divvy-tripdata.csv')\n",
    "aug_21 = pd.read_csv(r'./202108-divvy-tripdata.csv')\n",
    "sept_21 = pd.read_csv(r'./202109-divvy-tripdata.csv')\n",
    "oct_21 = pd.read_csv(r'./202110-divvy-tripdata.csv')\n",
    "nov_21 = pd.read_csv(r'./202111-divvy-tripdata.csv')\n",
    "\n",
    "# Join all months into a single dataframe\n",
    "months = [nov_20, dec_20, jan_21, feb_21, march_21, april_21, may_21, jun_21, july_21, aug_21, sept_21, oct_21, nov_21]\n",
    "df_months = pd.concat(months)\n"
   ]
  },
  {
   "cell_type": "code",
   "execution_count": 176,
   "metadata": {},
   "outputs": [
    {
     "name": "stdout",
     "output_type": "stream",
     "text": [
      "<class 'pandas.core.frame.DataFrame'>\n",
      "Index: 5738812 entries, 0 to 359977\n",
      "Data columns (total 13 columns):\n",
      " #   Column              Dtype  \n",
      "---  ------              -----  \n",
      " 0   ride_id             object \n",
      " 1   rideable_type       object \n",
      " 2   started_at          object \n",
      " 3   ended_at            object \n",
      " 4   start_station_name  object \n",
      " 5   start_station_id    object \n",
      " 6   end_station_name    object \n",
      " 7   end_station_id      object \n",
      " 8   start_lat           float64\n",
      " 9   start_lng           float64\n",
      " 10  end_lat             float64\n",
      " 11  end_lng             float64\n",
      " 12  member_casual       object \n",
      "dtypes: float64(4), object(9)\n",
      "memory usage: 613.0+ MB\n"
     ]
    }
   ],
   "source": [
    "# Get basic information\n",
    "df_months.info()"
   ]
  },
  {
   "cell_type": "code",
   "execution_count": 177,
   "metadata": {},
   "outputs": [
    {
     "data": {
      "text/plain": [
       "0"
      ]
     },
     "execution_count": 177,
     "metadata": {},
     "output_type": "execute_result"
    }
   ],
   "source": [
    "# Check for duplicates\n",
    "df_months.duplicated().sum()"
   ]
  },
  {
   "cell_type": "markdown",
   "metadata": {},
   "source": [
    "## Data Processing\n",
    "- Convert the data type\n",
    "- Calculate ride duration (end - start time)"
   ]
  },
  {
   "cell_type": "code",
   "execution_count": 178,
   "metadata": {},
   "outputs": [
    {
     "name": "stdout",
     "output_type": "stream",
     "text": [
      "<class 'pandas.core.frame.DataFrame'>\n",
      "Index: 5738812 entries, 0 to 359977\n",
      "Data columns (total 13 columns):\n",
      " #   Column              Dtype         \n",
      "---  ------              -----         \n",
      " 0   ride_id             object        \n",
      " 1   rideable_type       object        \n",
      " 2   started_at          datetime64[ns]\n",
      " 3   ended_at            datetime64[ns]\n",
      " 4   start_station_name  object        \n",
      " 5   start_station_id    object        \n",
      " 6   end_station_name    object        \n",
      " 7   end_station_id      object        \n",
      " 8   start_lat           float64       \n",
      " 9   start_lng           float64       \n",
      " 10  end_lat             float64       \n",
      " 11  end_lng             float64       \n",
      " 12  member_casual       object        \n",
      "dtypes: datetime64[ns](2), float64(4), object(7)\n",
      "memory usage: 613.0+ MB\n"
     ]
    }
   ],
   "source": [
    "# Funtion to preprocess datetime string, adding seconds if missing\n",
    "def preprocess_datetime(dt_str):\n",
    "    if pd.isna(dt_str):\n",
    "        return np.nan\n",
    "    if len(dt_str) == 16:  # Format is missing seconds (YYYY-MM-DD HH:MM)\n",
    "        return dt_str + ':00'\n",
    "    # Add leading zero to single-digit hours\n",
    "    if len(dt_str) == 15 and re.match(r'\\d{4}-\\d{2}-\\d{2} \\d:\\d{2}', dt_str):\n",
    "        return dt_str[:11] + '0' + dt_str[11:] + ':00'\n",
    "    \n",
    "    # Add leading zero to single-digit hours with missing seconds\n",
    "    if len(dt_str) == 14 and re.match(r'\\d{4}-\\d{2}-\\d{2} \\d:\\d{2}', dt_str):\n",
    "        return dt_str[:11] + '0' + dt_str[11:] + ':00'\n",
    "    return dt_str\n",
    "\n",
    "# Apply the preprocessing function to both columns\n",
    "df_months['started_at'] = df_months['started_at'].apply(preprocess_datetime)\n",
    "df_months['ended_at'] = df_months['ended_at'].apply(preprocess_datetime)\n",
    "\n",
    "# Convert to date time\n",
    "df_months['started_at'] = pd.to_datetime(df_months['started_at'],format='%Y-%m-%d %H:%M:%S')\n",
    "df_months['ended_at'] = pd.to_datetime(df_months['ended_at'],format='%Y-%m-%d %H:%M:%S')\n",
    "\n",
    "df_months.info()"
   ]
  },
  {
   "cell_type": "markdown",
   "metadata": {},
   "source": [
    "## Data Extraction"
   ]
  },
  {
   "cell_type": "code",
   "execution_count": 179,
   "metadata": {},
   "outputs": [
    {
     "data": {
      "text/plain": [
       "count    5.738812e+06\n",
       "mean     1.208008e+03\n",
       "std      1.752267e+04\n",
       "min     -1.742998e+06\n",
       "25%      4.090000e+02\n",
       "50%      7.250000e+02\n",
       "75%      1.318000e+03\n",
       "max      3.356649e+06\n",
       "Name: ride_duration, dtype: float64"
      ]
     },
     "execution_count": 179,
     "metadata": {},
     "output_type": "execute_result"
    }
   ],
   "source": [
    "# start day of week [Mon, Tue]\n",
    "df_months['day'] = df_months['started_at'].dt.day_name()\n",
    "\n",
    "# start time, from this we can determine if Morn, Afternoon, Night \n",
    "df_months['start_time'] = df_months['started_at'].dt.strftime('%H:%M:%S')\n",
    "df_months['end_time'] = df_months['ended_at'].dt.strftime('%H:%M:%S') # Time when rides ended \n",
    "\n",
    "# Creata a column to assign period based on the time\n",
    "\n",
    "def day_period(time_str):\n",
    "    hour = int(time_str.split(':')[0])\n",
    "    if 0 <= hour < 12:\n",
    "        return 'Morning'\n",
    "    elif 12 <= hour < 18:\n",
    "        return 'Afternoon'\n",
    "    else:\n",
    "        return 'Night'\n",
    "\n",
    "# Apply the function to the 'start_time' column\n",
    "df_months['time_of_day'] = df_months['start_time'].apply(day_period)\n",
    "\n",
    "# month\n",
    "df_months['month'] = df_months['started_at'].dt.strftime(\"%b-%y\")\n",
    "\n",
    "# Find the ride duration is seconds\n",
    "df_months['ride_duration'] = (df_months['ended_at']-df_months['started_at']).dt.total_seconds()\n",
    "\n",
    "# Get basic descriptive stats on the duration\n",
    "df_months['ride_duration'].describe()"
   ]
  },
  {
   "cell_type": "code",
   "execution_count": 180,
   "metadata": {},
   "outputs": [
    {
     "data": {
      "text/plain": [
       "ride_id                    0\n",
       "rideable_type              0\n",
       "started_at                 0\n",
       "ended_at                   0\n",
       "start_station_name    675769\n",
       "start_station_id      675876\n",
       "end_station_name      725658\n",
       "end_station_id        725735\n",
       "start_lat                  0\n",
       "start_lng                  0\n",
       "end_lat                 5022\n",
       "end_lng                 5022\n",
       "member_casual              0\n",
       "day                        0\n",
       "start_time                 0\n",
       "end_time                   0\n",
       "time_of_day                0\n",
       "month                      0\n",
       "ride_duration              0\n",
       "dtype: int64"
      ]
     },
     "execution_count": 180,
     "metadata": {},
     "output_type": "execute_result"
    }
   ],
   "source": [
    "# Check for missing values\n",
    "df_months.isnull().sum()"
   ]
  },
  {
   "cell_type": "code",
   "execution_count": 204,
   "metadata": {},
   "outputs": [
    {
     "data": {
      "text/plain": [
       "(5738812, 19)"
      ]
     },
     "execution_count": 204,
     "metadata": {},
     "output_type": "execute_result"
    }
   ],
   "source": [
    "df_months.shape"
   ]
  },
  {
   "cell_type": "code",
   "execution_count": 182,
   "metadata": {},
   "outputs": [
    {
     "data": {
      "image/png": "[encoded data removed]",
      "text/plain": [
       "<Figure size 1500x200 with 2 Axes>"
      ]
     },
     "metadata": {},
     "output_type": "display_data"
    },
    {
     "name": "stdout",
     "output_type": "stream",
     "text": [
      "Interquartile range: 909.0\n",
      "Lower Bound: -954.5\n",
      "Upper Bound: 2681.5\n",
      "Mean: 1208.0079748212697\n"
     ]
    }
   ],
   "source": [
    "# Get outliers\n",
    "fig, axes = plt.subplots(1, 2, figsize = (15,2))\n",
    "\n",
    "# Plot 1\n",
    "sns.boxplot(ax=axes[0], x=df_months['ride_duration'], showfliers = False)\n",
    "axes[0].set_title('Total Ride Duration Distribution')\n",
    "\n",
    "# Plot 2\n",
    "sns.boxplot(ax=axes[1], x = df_months['ride_duration'], y = df_months['member_casual'], showfliers = False)\n",
    "axes[1].set_title('Member Ride Duration Distribution by Members')\n",
    "plt.show()\n",
    "\n",
    "p25 = df_months['ride_duration'].quantile(0.25) # 25th percentile\n",
    "p50 = df_months['ride_duration'].quantile(0.5) # 50th percentile\n",
    "p75 = df_months['ride_duration'].quantile(0.75) # 75th percentile\n",
    "\n",
    "# Interquartile range\n",
    "iqr = p75 - p25\n",
    "print(f'Interquartile range: {iqr}')\n",
    "\n",
    "# Lower Limit\n",
    "lower_bound  = p25 - 1.5 * iqr\n",
    "print(f'Lower Bound: {lower_bound}')\n",
    "\n",
    "# Upper Limit\n",
    "upper_bound = p75 + 1.5 * iqr\n",
    "print(f'Upper Bound: {upper_bound}')\n",
    "\n",
    "# Mean\n",
    "print(f'Mean: {df_months['ride_duration'].mean()}')"
   ]
  },
  {
   "cell_type": "code",
   "execution_count": 205,
   "metadata": {},
   "outputs": [
    {
     "name": "stdout",
     "output_type": "stream",
     "text": [
      "We have 990075 rows with missing values.\n",
      "Which is 17.252264057439078% of our dataset.\n"
     ]
    }
   ],
   "source": [
    "# Get and store missing values into a dataframe for analysis\n",
    "df_missing = df_months[df_months.isnull().any(axis=1)].reset_index(drop=True)\n",
    "\n",
    "# Remove negative ride durations\n",
    "df_missing = df_missing[df_missing['ride_duration'] >= 0].reset_index(drop=True)\n",
    "\n",
    "# \n",
    "df_missing['missing'] = True\n",
    "\n",
    "print(f'We have {df_missing.shape[0]} rows with missing values.')\n",
    "print(f'Which is {100-((df_months.shape[0] - df_missing.shape[0])/df_months.shape[0])*100}% of our dataset.')"
   ]
  },
  {
   "cell_type": "code",
   "execution_count": 206,
   "metadata": {},
   "outputs": [
    {
     "data": {
      "text/plain": [
       "(423944, 20)"
      ]
     },
     "execution_count": 206,
     "metadata": {},
     "output_type": "execute_result"
    }
   ],
   "source": [
    "# Drop negative ride duration AND keep outliers\n",
    "df_outliers = df_months[(df_months['ride_duration'] >= 0) & (df_months['ride_duration'] > upper_bound)].reset_index(drop=True)\n",
    "\n",
    "df_outliers['missing'] = False\n",
    "\n",
    "df_outliers.shape"
   ]
  },
  {
   "cell_type": "code",
   "execution_count": 207,
   "metadata": {},
   "outputs": [
    {
     "name": "stdout",
     "output_type": "stream",
     "text": [
      "Number of duplicates 0.\n"
     ]
    },
    {
     "data": {
      "text/html": [
       "<div>\n",
       "<style scoped>\n",
       "    .dataframe tbody tr th:only-of-type {\n",
       "        vertical-align: middle;\n",
       "    }\n",
       "\n",
       "    .dataframe tbody tr th {\n",
       "        vertical-align: top;\n",
       "    }\n",
       "\n",
       "    .dataframe thead th {\n",
       "        text-align: right;\n",
       "    }\n",
       "</style>\n",
       "<table border=\"1\" class=\"dataframe\">\n",
       "  <thead>\n",
       "    <tr style=\"text-align: right;\">\n",
       "      <th></th>\n",
       "      <th>ride_id</th>\n",
       "      <th>rideable_type</th>\n",
       "      <th>started_at</th>\n",
       "      <th>ended_at</th>\n",
       "      <th>start_station_name</th>\n",
       "      <th>start_station_id</th>\n",
       "      <th>end_station_name</th>\n",
       "      <th>end_station_id</th>\n",
       "      <th>start_lat</th>\n",
       "      <th>start_lng</th>\n",
       "      <th>end_lat</th>\n",
       "      <th>end_lng</th>\n",
       "      <th>member_casual</th>\n",
       "      <th>day</th>\n",
       "      <th>start_time</th>\n",
       "      <th>end_time</th>\n",
       "      <th>time_of_day</th>\n",
       "      <th>month</th>\n",
       "      <th>ride_duration</th>\n",
       "      <th>missing</th>\n",
       "    </tr>\n",
       "  </thead>\n",
       "  <tbody>\n",
       "    <tr>\n",
       "      <th>0</th>\n",
       "      <td>9E7A79ADA90C2695</td>\n",
       "      <td>electric_bike</td>\n",
       "      <td>2020-11-14 16:04:15</td>\n",
       "      <td>2020-11-14 16:19:33</td>\n",
       "      <td>NaN</td>\n",
       "      <td>NaN</td>\n",
       "      <td>NaN</td>\n",
       "      <td>NaN</td>\n",
       "      <td>41.910000</td>\n",
       "      <td>-87.620000</td>\n",
       "      <td>41.910000</td>\n",
       "      <td>-87.620000</td>\n",
       "      <td>casual</td>\n",
       "      <td>Saturday</td>\n",
       "      <td>16:04:15</td>\n",
       "      <td>16:19:33</td>\n",
       "      <td>Afternoon</td>\n",
       "      <td>Nov-20</td>\n",
       "      <td>918.0</td>\n",
       "      <td>True</td>\n",
       "    </tr>\n",
       "    <tr>\n",
       "      <th>1</th>\n",
       "      <td>586E86B0E03B75CE</td>\n",
       "      <td>electric_bike</td>\n",
       "      <td>2020-11-14 09:10:26</td>\n",
       "      <td>2020-11-14 09:23:43</td>\n",
       "      <td>NaN</td>\n",
       "      <td>NaN</td>\n",
       "      <td>Spaulding Ave &amp; Armitage Ave</td>\n",
       "      <td>506.0</td>\n",
       "      <td>41.950000</td>\n",
       "      <td>-87.710000</td>\n",
       "      <td>41.917184</td>\n",
       "      <td>-87.710245</td>\n",
       "      <td>casual</td>\n",
       "      <td>Saturday</td>\n",
       "      <td>09:10:26</td>\n",
       "      <td>09:23:43</td>\n",
       "      <td>Morning</td>\n",
       "      <td>Nov-20</td>\n",
       "      <td>797.0</td>\n",
       "      <td>True</td>\n",
       "    </tr>\n",
       "    <tr>\n",
       "      <th>2</th>\n",
       "      <td>953E715FCB27D545</td>\n",
       "      <td>electric_bike</td>\n",
       "      <td>2020-11-14 13:04:38</td>\n",
       "      <td>2020-11-14 13:10:11</td>\n",
       "      <td>NaN</td>\n",
       "      <td>NaN</td>\n",
       "      <td>NaN</td>\n",
       "      <td>NaN</td>\n",
       "      <td>41.790000</td>\n",
       "      <td>-87.590000</td>\n",
       "      <td>41.800000</td>\n",
       "      <td>-87.590000</td>\n",
       "      <td>casual</td>\n",
       "      <td>Saturday</td>\n",
       "      <td>13:04:38</td>\n",
       "      <td>13:10:11</td>\n",
       "      <td>Afternoon</td>\n",
       "      <td>Nov-20</td>\n",
       "      <td>333.0</td>\n",
       "      <td>True</td>\n",
       "    </tr>\n",
       "    <tr>\n",
       "      <th>3</th>\n",
       "      <td>C1593A866828113F</td>\n",
       "      <td>electric_bike</td>\n",
       "      <td>2020-11-07 11:48:55</td>\n",
       "      <td>2020-11-07 11:57:46</td>\n",
       "      <td>NaN</td>\n",
       "      <td>NaN</td>\n",
       "      <td>Lake Shore Dr &amp; North Blvd</td>\n",
       "      <td>268.0</td>\n",
       "      <td>41.890000</td>\n",
       "      <td>-87.630000</td>\n",
       "      <td>41.911665</td>\n",
       "      <td>-87.626829</td>\n",
       "      <td>casual</td>\n",
       "      <td>Saturday</td>\n",
       "      <td>11:48:55</td>\n",
       "      <td>11:57:46</td>\n",
       "      <td>Morning</td>\n",
       "      <td>Nov-20</td>\n",
       "      <td>531.0</td>\n",
       "      <td>True</td>\n",
       "    </tr>\n",
       "    <tr>\n",
       "      <th>4</th>\n",
       "      <td>0370B5DA8B8E0FA2</td>\n",
       "      <td>electric_bike</td>\n",
       "      <td>2020-11-06 22:23:36</td>\n",
       "      <td>2020-11-06 22:29:15</td>\n",
       "      <td>Morgan St &amp; Polk St</td>\n",
       "      <td>241.0</td>\n",
       "      <td>NaN</td>\n",
       "      <td>NaN</td>\n",
       "      <td>41.872028</td>\n",
       "      <td>-87.650915</td>\n",
       "      <td>41.890000</td>\n",
       "      <td>-87.650000</td>\n",
       "      <td>casual</td>\n",
       "      <td>Friday</td>\n",
       "      <td>22:23:36</td>\n",
       "      <td>22:29:15</td>\n",
       "      <td>Night</td>\n",
       "      <td>Nov-20</td>\n",
       "      <td>339.0</td>\n",
       "      <td>True</td>\n",
       "    </tr>\n",
       "  </tbody>\n",
       "</table>\n",
       "</div>"
      ],
      "text/plain": [
       "            ride_id  rideable_type          started_at            ended_at  \\\n",
       "0  9E7A79ADA90C2695  electric_bike 2020-11-14 16:04:15 2020-11-14 16:19:33   \n",
       "1  586E86B0E03B75CE  electric_bike 2020-11-14 09:10:26 2020-11-14 09:23:43   \n",
       "2  953E715FCB27D545  electric_bike 2020-11-14 13:04:38 2020-11-14 13:10:11   \n",
       "3  C1593A866828113F  electric_bike 2020-11-07 11:48:55 2020-11-07 11:57:46   \n",
       "4  0370B5DA8B8E0FA2  electric_bike 2020-11-06 22:23:36 2020-11-06 22:29:15   \n",
       "\n",
       "    start_station_name start_station_id              end_station_name  \\\n",
       "0                  NaN              NaN                           NaN   \n",
       "1                  NaN              NaN  Spaulding Ave & Armitage Ave   \n",
       "2                  NaN              NaN                           NaN   \n",
       "3                  NaN              NaN    Lake Shore Dr & North Blvd   \n",
       "4  Morgan St & Polk St            241.0                           NaN   \n",
       "\n",
       "  end_station_id  start_lat  start_lng    end_lat    end_lng member_casual  \\\n",
       "0            NaN  41.910000 -87.620000  41.910000 -87.620000        casual   \n",
       "1          506.0  41.950000 -87.710000  41.917184 -87.710245        casual   \n",
       "2            NaN  41.790000 -87.590000  41.800000 -87.590000        casual   \n",
       "3          268.0  41.890000 -87.630000  41.911665 -87.626829        casual   \n",
       "4            NaN  41.872028 -87.650915  41.890000 -87.650000        casual   \n",
       "\n",
       "        day start_time  end_time time_of_day   month  ride_duration  missing  \n",
       "0  Saturday   16:04:15  16:19:33   Afternoon  Nov-20          918.0     True  \n",
       "1  Saturday   09:10:26  09:23:43     Morning  Nov-20          797.0     True  \n",
       "2  Saturday   13:04:38  13:10:11   Afternoon  Nov-20          333.0     True  \n",
       "3  Saturday   11:48:55  11:57:46     Morning  Nov-20          531.0     True  \n",
       "4    Friday   22:23:36  22:29:15       Night  Nov-20          339.0     True  "
      ]
     },
     "execution_count": 207,
     "metadata": {},
     "output_type": "execute_result"
    }
   ],
   "source": [
    "# Join missing and outliers\n",
    "df = pd.concat([df_missing, df_outliers], axis=0)\n",
    "\n",
    "# Check for duplicates\n",
    "print(f'Number of duplicates {df.duplicated().sum()}.')\n",
    "\n",
    "# Drop duplicates\n",
    "df.drop_duplicates(keep='last',inplace=True)\n",
    "\n",
    "df.head()"
   ]
  },
  {
   "cell_type": "markdown",
   "metadata": {},
   "source": [
    "## Investigate null rows"
   ]
  },
  {
   "cell_type": "markdown",
   "metadata": {},
   "source": [
    "### User-Based Analysis\n",
    "- What is the distribution of outliers across different members?"
   ]
  },
  {
   "cell_type": "code",
   "execution_count": 208,
   "metadata": {},
   "outputs": [
    {
     "name": "stdout",
     "output_type": "stream",
     "text": [
      "Total number of bad rides: 1414019\n",
      "Members: 575433\n",
      "Casual: 838586\n"
     ]
    }
   ],
   "source": [
    "# Total number of rides\n",
    "print(f'Total number of bad rides: {df.count()['ride_id']}')\n",
    "\n",
    "# members and casual\n",
    "print(f'Members: {df['member_casual'].value_counts()['member']}') \n",
    "print(f'Casual: {df['member_casual'].value_counts()['casual']}') "
   ]
  },
  {
   "cell_type": "code",
   "execution_count": 209,
   "metadata": {},
   "outputs": [
    {
     "data": {
      "text/html": [
       "<div>\n",
       "<style scoped>\n",
       "    .dataframe tbody tr th:only-of-type {\n",
       "        vertical-align: middle;\n",
       "    }\n",
       "\n",
       "    .dataframe tbody tr th {\n",
       "        vertical-align: top;\n",
       "    }\n",
       "\n",
       "    .dataframe thead th {\n",
       "        text-align: right;\n",
       "    }\n",
       "</style>\n",
       "<table border=\"1\" class=\"dataframe\">\n",
       "  <thead>\n",
       "    <tr style=\"text-align: right;\">\n",
       "      <th></th>\n",
       "      <th>member_casual</th>\n",
       "      <th>ride_duration</th>\n",
       "    </tr>\n",
       "  </thead>\n",
       "  <tbody>\n",
       "    <tr>\n",
       "      <th>0</th>\n",
       "      <td>casual</td>\n",
       "      <td>4383.239080</td>\n",
       "    </tr>\n",
       "    <tr>\n",
       "      <th>1</th>\n",
       "      <td>member</td>\n",
       "      <td>1480.111851</td>\n",
       "    </tr>\n",
       "  </tbody>\n",
       "</table>\n",
       "</div>"
      ],
      "text/plain": [
       "  member_casual  ride_duration\n",
       "0        casual    4383.239080\n",
       "1        member    1480.111851"
      ]
     },
     "execution_count": 209,
     "metadata": {},
     "output_type": "execute_result"
    }
   ],
   "source": [
    "# Ride duration compared to \n",
    "df.groupby('member_casual').agg({'ride_duration':'mean'}).reset_index()"
   ]
  },
  {
   "cell_type": "markdown",
   "metadata": {},
   "source": [
    "### Bike Type-Based Analysis\n",
    "- Which bike models or types have higher rates of anomalies or outliers?\n",
    "- Do certain bike types experience more mechanical issues leading to outlier rides?\n",
    "- How does the distribution of ride durations vary across different bike types?\n"
   ]
  },
  {
   "cell_type": "markdown",
   "metadata": {},
   "source": [
    "#### Which bike models or types have higher rates of outliers or bad data?"
   ]
  },
  {
   "cell_type": "code",
   "execution_count": 210,
   "metadata": {},
   "outputs": [
    {
     "name": "stdout",
     "output_type": "stream",
     "text": [
      "rideable_type\n",
      "electric_bike    1089479\n",
      "classic_bike      213163\n",
      "docked_bike       111377\n",
      "Name: count, dtype: int64\n"
     ]
    },
    {
     "data": {
      "text/plain": [
       "Text(0, 0.5, 'Number of Rides')"
      ]
     },
     "execution_count": 210,
     "metadata": {},
     "output_type": "execute_result"
    },
    {
     "data": {
      "image/png": "[encoded data removed]",
      "text/plain": [
       "<Figure size 1400x600 with 1 Axes>"
      ]
     },
     "metadata": {},
     "output_type": "display_data"
    }
   ],
   "source": [
    "print(df['rideable_type'].value_counts())\n",
    "\n",
    "df_bp = df.groupby(['rideable_type']).count()['ride_id'].reset_index()\n",
    "\n",
    "# Plot\n",
    "plt.figure(figsize = (14,6))\n",
    "sns.barplot(data = df_bp, x = 'rideable_type', y = 'ride_id', hue = 'rideable_type')\n",
    "\n",
    "# Plot a bargraph\n",
    "def addlabels(x,y,labels):\n",
    "    for i in range(len(x)):\n",
    "        plt.text(i,y[i],labels[i], ha='center', va='bottom')\n",
    "\n",
    "addlabels(df_bp.index, df_bp['ride_id'], df_bp['ride_id'])\n",
    "\n",
    "plt.title('Weekly Rides by Member Type')\n",
    "plt.xlabel('Day of Week')\n",
    "plt.ylabel('Number of Rides')\n"
   ]
  },
  {
   "cell_type": "markdown",
   "metadata": {},
   "source": [
    "#### Do certain bike types experience more mechanical issues leading to outlier rides?\n",
    "We observe that electric bikes contribute to a significant percentage of missing data or outliers. This can be due to several factors:\n",
    "- Mechanical Issues: Electric bikes may experience more frequent mechanical problems compared to classic and docked bikes, leading to higher instances of outliers in the data.\n",
    "- Battery Problems: Electric bikes might experience battery issues that cause them to be underutilized or misreported. Battery failures or inconsistencies in charge levels can result in incomplete or incorrect ride data.\n",
    "- Different User Behavior: Users might use electric bikes differently, such as for longer trips or more frequent short trips, leading to variations in the data that appear as outliers. This different usage pattern can be attributed to the ease and convenience of electric bikes compared to other types."
   ]
  },
  {
   "cell_type": "markdown",
   "metadata": {},
   "source": [
    "#### How does the distribution of ride durations vary across different bike types?"
   ]
  },
  {
   "cell_type": "code",
   "execution_count": 211,
   "metadata": {},
   "outputs": [
    {
     "data": {
      "text/html": [
       "<div>\n",
       "<style scoped>\n",
       "    .dataframe tbody tr th:only-of-type {\n",
       "        vertical-align: middle;\n",
       "    }\n",
       "\n",
       "    .dataframe tbody tr th {\n",
       "        vertical-align: top;\n",
       "    }\n",
       "\n",
       "    .dataframe thead tr th {\n",
       "        text-align: left;\n",
       "    }\n",
       "\n",
       "    .dataframe thead tr:last-of-type th {\n",
       "        text-align: right;\n",
       "    }\n",
       "</style>\n",
       "<table border=\"1\" class=\"dataframe\">\n",
       "  <thead>\n",
       "    <tr>\n",
       "      <th></th>\n",
       "      <th colspan=\"2\" halign=\"left\">ride_duration</th>\n",
       "    </tr>\n",
       "    <tr>\n",
       "      <th></th>\n",
       "      <th>median</th>\n",
       "      <th>mean</th>\n",
       "    </tr>\n",
       "    <tr>\n",
       "      <th>rideable_type</th>\n",
       "      <th></th>\n",
       "      <th></th>\n",
       "    </tr>\n",
       "  </thead>\n",
       "  <tbody>\n",
       "    <tr>\n",
       "      <th>classic_bike</th>\n",
       "      <td>3955.0</td>\n",
       "      <td>7721.746541</td>\n",
       "    </tr>\n",
       "    <tr>\n",
       "      <th>docked_bike</th>\n",
       "      <td>4711.0</td>\n",
       "      <td>12533.569121</td>\n",
       "    </tr>\n",
       "    <tr>\n",
       "      <th>electric_bike</th>\n",
       "      <td>757.0</td>\n",
       "      <td>1363.483045</td>\n",
       "    </tr>\n",
       "  </tbody>\n",
       "</table>\n",
       "</div>"
      ],
      "text/plain": [
       "              ride_duration              \n",
       "                     median          mean\n",
       "rideable_type                            \n",
       "classic_bike         3955.0   7721.746541\n",
       "docked_bike          4711.0  12533.569121\n",
       "electric_bike         757.0   1363.483045"
      ]
     },
     "execution_count": 211,
     "metadata": {},
     "output_type": "execute_result"
    }
   ],
   "source": [
    "df.groupby('rideable_type').agg({'ride_duration':['median','mean']})"
   ]
  },
  {
   "cell_type": "code",
   "execution_count": 212,
   "metadata": {},
   "outputs": [
    {
     "data": {
      "image/png": "[encoded data removed]",
      "text/plain": [
       "<Figure size 1000x400 with 1 Axes>"
      ]
     },
     "metadata": {},
     "output_type": "display_data"
    }
   ],
   "source": [
    "import seaborn as sns\n",
    "\n",
    "# Plot box plots\n",
    "plt.figure(figsize=(10, 4))\n",
    "sns.boxplot(y='rideable_type', x='ride_duration', data=df, showfliers = False)\n",
    "plt.ylabel('Bike Type')\n",
    "plt.xlabel('Ride Duration (seconds)')\n",
    "plt.title('Box Plot of Ride Durations by Bike Type')\n",
    "plt.show()"
   ]
  },
  {
   "cell_type": "markdown",
   "metadata": {},
   "source": [
    "### Summary"
   ]
  },
  {
   "cell_type": "markdown",
   "metadata": {},
   "source": [
    "Docked Bikes Have the Longest Mean Ride Duration:\n",
    "\n",
    "- Insight: Docked bikes have the highest mean ride duration, suggesting that they are associated with longer trips compared to the other bike types.\n",
    "- Possible Reasons: This could indicate that docked bikes are used for longer journeys, possibly for commuting or travel between locations that are not easily reachable by shorter rides. It might also be indicative of users keeping docked bikes for extended periods."
   ]
  },
  {
   "cell_type": "markdown",
   "metadata": {},
   "source": [
    "### Ride-Based Analysis\n",
    "- How do the ride durations of outliers compare to typical rides?"
   ]
  },
  {
   "cell_type": "markdown",
   "metadata": {},
   "source": [
    "Outlier Ride Duration by Members"
   ]
  },
  {
   "cell_type": "code",
   "execution_count": 213,
   "metadata": {},
   "outputs": [
    {
     "data": {
      "text/html": [
       "<div>\n",
       "<style scoped>\n",
       "    .dataframe tbody tr th:only-of-type {\n",
       "        vertical-align: middle;\n",
       "    }\n",
       "\n",
       "    .dataframe tbody tr th {\n",
       "        vertical-align: top;\n",
       "    }\n",
       "\n",
       "    .dataframe thead th {\n",
       "        text-align: right;\n",
       "    }\n",
       "</style>\n",
       "<table border=\"1\" class=\"dataframe\">\n",
       "  <thead>\n",
       "    <tr style=\"text-align: right;\">\n",
       "      <th></th>\n",
       "      <th>member_casual</th>\n",
       "      <th>ride_duration</th>\n",
       "    </tr>\n",
       "  </thead>\n",
       "  <tbody>\n",
       "    <tr>\n",
       "      <th>0</th>\n",
       "      <td>casual</td>\n",
       "      <td>4383.239080</td>\n",
       "    </tr>\n",
       "    <tr>\n",
       "      <th>1</th>\n",
       "      <td>member</td>\n",
       "      <td>1480.111851</td>\n",
       "    </tr>\n",
       "  </tbody>\n",
       "</table>\n",
       "</div>"
      ],
      "text/plain": [
       "  member_casual  ride_duration\n",
       "0        casual    4383.239080\n",
       "1        member    1480.111851"
      ]
     },
     "execution_count": 213,
     "metadata": {},
     "output_type": "execute_result"
    }
   ],
   "source": [
    "df.groupby('member_casual').agg({'ride_duration':'mean'}).reset_index()"
   ]
  },
  {
   "cell_type": "markdown",
   "metadata": {},
   "source": [
    "Ride Duration for typical rides"
   ]
  },
  {
   "cell_type": "code",
   "execution_count": 256,
   "metadata": {},
   "outputs": [
    {
     "name": "stdout",
     "output_type": "stream",
     "text": [
      "Number of clean data: 4382260.\n"
     ]
    },
    {
     "data": {
      "text/html": [
       "<div>\n",
       "<style scoped>\n",
       "    .dataframe tbody tr th:only-of-type {\n",
       "        vertical-align: middle;\n",
       "    }\n",
       "\n",
       "    .dataframe tbody tr th {\n",
       "        vertical-align: top;\n",
       "    }\n",
       "\n",
       "    .dataframe thead th {\n",
       "        text-align: right;\n",
       "    }\n",
       "</style>\n",
       "<table border=\"1\" class=\"dataframe\">\n",
       "  <thead>\n",
       "    <tr style=\"text-align: right;\">\n",
       "      <th></th>\n",
       "      <th>member_casual</th>\n",
       "      <th>ride_duration</th>\n",
       "    </tr>\n",
       "  </thead>\n",
       "  <tbody>\n",
       "    <tr>\n",
       "      <th>0</th>\n",
       "      <td>casual</td>\n",
       "      <td>995.878002</td>\n",
       "    </tr>\n",
       "    <tr>\n",
       "      <th>1</th>\n",
       "      <td>member</td>\n",
       "      <td>729.937950</td>\n",
       "    </tr>\n",
       "  </tbody>\n",
       "</table>\n",
       "</div>"
      ],
      "text/plain": [
       "  member_casual  ride_duration\n",
       "0        casual     995.878002\n",
       "1        member     729.937950"
      ]
     },
     "execution_count": 256,
     "metadata": {},
     "output_type": "execute_result"
    }
   ],
   "source": [
    "# Get clean rides\n",
    "df_clean = df_months\n",
    "# rtemove outliers and negatives\n",
    "df_clean = df_clean[(df_clean['ride_duration'] >= 0) & (df_clean['ride_duration'] < upper_bound)]\n",
    "# drop na values\n",
    "df_clean = df_clean.dropna(axis=0).reset_index(drop=True)\n",
    "\n",
    "print(f'Number of clean data: {df_clean.shape[0]}.')\n",
    "\n",
    "df_clean.groupby('member_casual').agg({'ride_duration':'mean'}).reset_index()"
   ]
  },
  {
   "cell_type": "markdown",
   "metadata": {},
   "source": [
    "#### Do outliers tend to occur more on certain days of the week or at certain times of the day?\n"
   ]
  },
  {
   "cell_type": "code",
   "execution_count": 216,
   "metadata": {},
   "outputs": [
    {
     "data": {
      "text/plain": [
       "<matplotlib.legend.Legend at 0x200afd51f70>"
      ]
     },
     "execution_count": 216,
     "metadata": {},
     "output_type": "execute_result"
    },
    {
     "data": {
      "image/png": "[encoded data removed]",
      "text/plain": [
       "<Figure size 1400x600 with 1 Axes>"
      ]
     },
     "metadata": {},
     "output_type": "display_data"
    }
   ],
   "source": [
    "# What day of the week do outliers occcur more frequently\n",
    "df_od = df.groupby(['member_casual','day']).count()['ride_id'].reset_index()\n",
    "\n",
    "week_order = ['Sunday','Monday','Tuesday','Wednesday','Thursday','Friday','Saturday']\n",
    "\n",
    "# Plot\n",
    "plt.figure(figsize = (14,6))\n",
    "sns.barplot(data = df_od, x = 'day', y = 'ride_id', hue = 'member_casual', order= week_order)\n",
    "\n",
    "plt.title('Weekly Rides by Member Type')\n",
    "plt.xlabel('Day of Week')\n",
    "plt.ylabel('Number of Rides')\n",
    "\n",
    "# Show legend\n",
    "plt.legend()"
   ]
  },
  {
   "cell_type": "markdown",
   "metadata": {},
   "source": [
    "#### What time of the day do outliers occcur more frequently"
   ]
  },
  {
   "cell_type": "code",
   "execution_count": 217,
   "metadata": {},
   "outputs": [
    {
     "name": "stdout",
     "output_type": "stream",
     "text": [
      "  member_casual time_of_day  ride_id\n",
      "0        casual   Afternoon   392747\n",
      "1        casual     Morning   207186\n",
      "2        casual       Night   238653\n",
      "3        member   Afternoon   249464\n",
      "4        member     Morning   164894\n",
      "5        member       Night   161075\n"
     ]
    },
    {
     "data": {
      "image/png": "[encoded data removed]",
      "text/plain": [
       "<Figure size 1400x600 with 1 Axes>"
      ]
     },
     "metadata": {},
     "output_type": "display_data"
    }
   ],
   "source": [
    "df_tod = df.groupby(['member_casual','time_of_day']).count()['ride_id'].reset_index()\n",
    "\n",
    "day_order = ['Morning','Afternoon','Night']\n",
    "# Plot\n",
    "plt.figure(figsize = (14,6))\n",
    "sns.barplot(data = df_tod, x = 'time_of_day', y = 'ride_id', hue = 'member_casual', order= day_order)\n",
    "\n",
    "plt.title('Peak Daily Rides by Member Type')\n",
    "plt.xlabel('Time of Day')\n",
    "plt.ylabel('Number of Rides')\n",
    "\n",
    "# Show legend\n",
    "plt.legend()\n",
    "\n",
    "print(df_tod)"
   ]
  },
  {
   "cell_type": "markdown",
   "metadata": {},
   "source": [
    "#### Are there specific times or seasons when outliers are more common?"
   ]
  },
  {
   "cell_type": "code",
   "execution_count": 218,
   "metadata": {},
   "outputs": [
    {
     "data": {
      "text/plain": [
       "<matplotlib.legend.Legend at 0x200afdc3e00>"
      ]
     },
     "execution_count": 218,
     "metadata": {},
     "output_type": "execute_result"
    },
    {
     "data": {
      "image/png": "[encoded data removed]",
      "text/plain": [
       "<Figure size 1400x600 with 1 Axes>"
      ]
     },
     "metadata": {},
     "output_type": "display_data"
    }
   ],
   "source": [
    "df_mod = df.groupby(['member_casual','month']).count()['ride_id'].reset_index()\n",
    "\n",
    "month_order = ['Nov-20','Dec-20','Jan-21','Feb-21','Mar-21','Apr-21','May-21','Jun-21','Jul-21',\n",
    "               'Aug-21','Sep-21','Oct-21','Nov-21']\n",
    "# Plot\n",
    "plt.figure(figsize = (14,6))\n",
    "sns.barplot(data = df_mod, x = 'month', y = 'ride_id', hue = 'member_casual', order= month_order)\n",
    "\n",
    "\n",
    "plt.title('Peak Daily Rides by Member Type')\n",
    "plt.xlabel('Time of Day')\n",
    "plt.ylabel('Number of Rides')\n",
    "\n",
    "# Show legend\n",
    "plt.legend()"
   ]
  },
  {
   "cell_type": "markdown",
   "metadata": {},
   "source": [
    "## Station and Location Analysis\n",
    "Which stations have the most missing data?"
   ]
  },
  {
   "cell_type": "markdown",
   "metadata": {},
   "source": [
    "Outliers - Memeber Start Station"
   ]
  },
  {
   "cell_type": "code",
   "execution_count": 219,
   "metadata": {},
   "outputs": [
    {
     "name": "stdout",
     "output_type": "stream",
     "text": [
      "The most used member station is: Streeter Dr & Grand Ave\n",
      "The Top 10 member stations by ride count:\n"
     ]
    },
    {
     "data": {
      "text/plain": [
       "start_station_name\n",
       "University Ave & 57th St      2116\n",
       "Ellis Ave & 60th St           2013\n",
       "Kimbark Ave & 53rd St         1607\n",
       "Streeter Dr & Grand Ave       1506\n",
       "Kedzie Ave & Milwaukee Ave    1482\n",
       "Dearborn St & Erie St         1473\n",
       "Ellis Ave & 55th St           1387\n",
       "Shore Dr & 55th St            1313\n",
       "Wabash Ave & Grand Ave        1261\n",
       "Clark St & Elm St             1214\n",
       "Name: count, dtype: int64"
      ]
     },
     "execution_count": 219,
     "metadata": {},
     "output_type": "execute_result"
    }
   ],
   "source": [
    "# Outlier Start stations and the location\n",
    "print(f'The most used member station is: {df['start_station_name'].value_counts().reset_index()['start_station_name'][0]}')\n",
    "print('The Top 10 member stations by ride count:')\n",
    "df_m = df[df['member_casual'] == 'member'] \n",
    "df_m['start_station_name'].value_counts().sort_values(ascending=False).iloc[0:10]"
   ]
  },
  {
   "cell_type": "markdown",
   "metadata": {},
   "source": [
    "Outlier - Member Destination Station"
   ]
  },
  {
   "cell_type": "code",
   "execution_count": 220,
   "metadata": {},
   "outputs": [
    {
     "name": "stdout",
     "output_type": "stream",
     "text": [
      "The most used member station is: Streeter Dr & Grand Ave\n",
      "The Top 10 member stations by ride count:\n"
     ]
    },
    {
     "data": {
      "text/plain": [
       "end_station_name\n",
       "Ellis Ave & 60th St           1830\n",
       "University Ave & 57th St      1777\n",
       "Dearborn St & Erie St         1620\n",
       "Streeter Dr & Grand Ave       1401\n",
       "Kimbark Ave & 53rd St         1331\n",
       "Wabash Ave & Grand Ave        1288\n",
       "Clark St & Elm St             1283\n",
       "Damen Ave & Pierce Ave        1241\n",
       "Broadway & Barry Ave          1241\n",
       "Kedzie Ave & Milwaukee Ave    1214\n",
       "Name: count, dtype: int64"
      ]
     },
     "execution_count": 220,
     "metadata": {},
     "output_type": "execute_result"
    }
   ],
   "source": [
    "print(f'The most used member station is: {df['end_station_name'].value_counts().reset_index()['end_station_name'][0]}')\n",
    "print('The Top 10 member stations by ride count:')\n",
    "df_md = df[df['member_casual'] == 'member'] \n",
    "df_md['end_station_name'].value_counts().sort_values(ascending=False).iloc[0:10]"
   ]
  },
  {
   "cell_type": "markdown",
   "metadata": {},
   "source": [
    "Oultiers - Casual Start Station"
   ]
  },
  {
   "cell_type": "code",
   "execution_count": 221,
   "metadata": {},
   "outputs": [
    {
     "name": "stdout",
     "output_type": "stream",
     "text": [
      "The most used member station is: Streeter Dr & Grand Ave\n",
      "The Top 10 casual stations by ride count:\n"
     ]
    },
    {
     "data": {
      "text/plain": [
       "start_station_name\n",
       "Streeter Dr & Grand Ave              19418\n",
       "Millennium Park                      12935\n",
       "Michigan Ave & Oak St                 9644\n",
       "Lake Shore Dr & Monroe St             7335\n",
       "Shedd Aquarium                        5656\n",
       "Indiana Ave & Roosevelt Rd            5126\n",
       "Theater on the Lake                   5075\n",
       "Michigan Ave & Washington St          4975\n",
       "DuSable Lake Shore Dr & Monroe St     4775\n",
       "Buckingham Fountain                   4768\n",
       "Name: count, dtype: int64"
      ]
     },
     "execution_count": 221,
     "metadata": {},
     "output_type": "execute_result"
    }
   ],
   "source": [
    "# Outlier Start stations and the location\n",
    "print(f'The most used member station is: {df['start_station_name'].value_counts().reset_index()['start_station_name'][0]}')\n",
    "print('The Top 10 casual stations by ride count:')\n",
    "df_c = df[df['member_casual'] == 'casual'] \n",
    "df_c['start_station_name'].value_counts().sort_values(ascending=False).iloc[0:10]"
   ]
  },
  {
   "cell_type": "code",
   "execution_count": 222,
   "metadata": {},
   "outputs": [
    {
     "name": "stdout",
     "output_type": "stream",
     "text": [
      "The most used member station is: Streeter Dr & Grand Ave\n",
      "The Top 10 member stations by ride count:\n"
     ]
    },
    {
     "data": {
      "text/plain": [
       "end_station_name\n",
       "Streeter Dr & Grand Ave              20972\n",
       "Millennium Park                      11640\n",
       "Michigan Ave & Oak St                10048\n",
       "Lake Shore Dr & Monroe St             7117\n",
       "Theater on the Lake                   5997\n",
       "Shedd Aquarium                        4815\n",
       "DuSable Lake Shore Dr & Monroe St     4803\n",
       "Indiana Ave & Roosevelt Rd            4753\n",
       "Michigan Ave & 8th St                 4459\n",
       "Buckingham Fountain                   4442\n",
       "Name: count, dtype: int64"
      ]
     },
     "execution_count": 222,
     "metadata": {},
     "output_type": "execute_result"
    }
   ],
   "source": [
    "print(f'The most used member station is: {df['end_station_name'].value_counts().reset_index()['end_station_name'][0]}')\n",
    "print('The Top 10 member stations by ride count:')\n",
    "df_md = df[df['member_casual'] == 'casual'] \n",
    "df_md['end_station_name'].value_counts().sort_values(ascending=False).iloc[0:10]"
   ]
  },
  {
   "cell_type": "markdown",
   "metadata": {},
   "source": [
    "## Summary and Conclusion\n",
    "- Members Analysis: Outliers are characterized by significantly longer ride durations, especially for casual riders.\n",
    "- Bike Type-Based Analysis: Electric bikes have a much higher rate of anomalies compared to classic and docked bikes. This might be due to more frequent technical issues associated with electric bikes.\n",
    "- Weekends (Saturday and Sunday) show a higher incidence of anomalies for both casual riders and members, suggesting higher usage during peak days.\n",
    "- Outliers are most frequent in the afternoon for both casual riders and members. This might be due to higher activity levels and potential system overloads during these times.\n",
    "- Summer months (June, July, and August) and early fall (September and October) see a higher incidence of outliers for both casual riders and members. This pattern suggests seasonal peaks in usage which might lead to more data anomalies due to increased system load or seasonal events affecting ride behavior."
   ]
  }
 ],
 "metadata": {
  "kernelspec": {
   "display_name": "Python 3",
   "language": "python",
   "name": "python3"
  },
  "language_info": {
   "codemirror_mode": {
    "name": "ipython",
    "version": 3
   },
   "file_extension": ".py",
   "mimetype": "text/x-python",
   "name": "python",
   "nbconvert_exporter": "python",
   "pygments_lexer": "ipython3",
   "version": "3.12.4"
  }
 },
 "nbformat": 4,
 "nbformat_minor": 2
}
